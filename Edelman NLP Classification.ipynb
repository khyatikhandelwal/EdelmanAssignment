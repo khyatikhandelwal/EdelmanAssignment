{
 "cells": [
  {
   "cell_type": "code",
   "execution_count": 2,
   "metadata": {},
   "outputs": [
    {
     "name": "stdout",
     "output_type": "stream",
     "text": [
      "0.23.1\n"
     ]
    }
   ],
   "source": [
    "import pandas as pd\n",
    "import numpy as np\n",
    "import matplotlib.pyplot as plt\n",
    "%matplotlib inline\n",
    "import sklearn\n",
    "print(sklearn.__version__)"
   ]
  },
  {
   "cell_type": "code",
   "execution_count": 3,
   "metadata": {},
   "outputs": [
    {
     "data": {
      "text/html": [
       "<div>\n",
       "<style scoped>\n",
       "    .dataframe tbody tr th:only-of-type {\n",
       "        vertical-align: middle;\n",
       "    }\n",
       "\n",
       "    .dataframe tbody tr th {\n",
       "        vertical-align: top;\n",
       "    }\n",
       "\n",
       "    .dataframe thead th {\n",
       "        text-align: right;\n",
       "    }\n",
       "</style>\n",
       "<table border=\"1\" class=\"dataframe\">\n",
       "  <thead>\n",
       "    <tr style=\"text-align: right;\">\n",
       "      <th></th>\n",
       "      <th>Tweet</th>\n",
       "      <th>Label</th>\n",
       "    </tr>\n",
       "  </thead>\n",
       "  <tbody>\n",
       "    <tr>\n",
       "      <th>0</th>\n",
       "      <td>@sadhika_tiwari: A 46-year-old dies after vac...</td>\n",
       "      <td>2</td>\n",
       "    </tr>\n",
       "    <tr>\n",
       "      <th>1</th>\n",
       "      <td>@mid_day: #MiddayNews | Consent form for #Cov...</td>\n",
       "      <td>2</td>\n",
       "    </tr>\n",
       "    <tr>\n",
       "      <th>2</th>\n",
       "      <td>@TimesNow: #Breaking | Bharat Biotech to pay ...</td>\n",
       "      <td>1</td>\n",
       "    </tr>\n",
       "    <tr>\n",
       "      <th>3</th>\n",
       "      <td>@the_fauxy: After No Side Effect Of Covaxin, ...</td>\n",
       "      <td>1</td>\n",
       "    </tr>\n",
       "    <tr>\n",
       "      <th>4</th>\n",
       "      <td>New Delhi, Jan 18 (PTI) Healthcare workers in ...</td>\n",
       "      <td>2</td>\n",
       "    </tr>\n",
       "    <tr>\n",
       "      <th>...</th>\n",
       "      <td>...</td>\n",
       "      <td>...</td>\n",
       "    </tr>\n",
       "    <tr>\n",
       "      <th>169</th>\n",
       "      <td>Myself and my wife got Covishield Vaccination ...</td>\n",
       "      <td>1</td>\n",
       "    </tr>\n",
       "    <tr>\n",
       "      <th>170</th>\n",
       "      <td>Jai Sri Ram #Covaxin #odishathanksmodi #Odisha...</td>\n",
       "      <td>1</td>\n",
       "    </tr>\n",
       "    <tr>\n",
       "      <th>171</th>\n",
       "      <td>RT @drshashidharbk: @narendramodi ji🙏And @drha...</td>\n",
       "      <td>1</td>\n",
       "    </tr>\n",
       "    <tr>\n",
       "      <th>172</th>\n",
       "      <td>RT @drshashidharbk: @narendramodi ji🙏And @drha...</td>\n",
       "      <td>1</td>\n",
       "    </tr>\n",
       "    <tr>\n",
       "      <th>173</th>\n",
       "      <td>Appreciation and thanks from Tamil Nadu CM to ...</td>\n",
       "      <td>1</td>\n",
       "    </tr>\n",
       "  </tbody>\n",
       "</table>\n",
       "<p>174 rows × 2 columns</p>\n",
       "</div>"
      ],
      "text/plain": [
       "                                                 Tweet  Label\n",
       "0     @sadhika_tiwari: A 46-year-old dies after vac...      2\n",
       "1     @mid_day: #MiddayNews | Consent form for #Cov...      2\n",
       "2     @TimesNow: #Breaking | Bharat Biotech to pay ...      1\n",
       "3     @the_fauxy: After No Side Effect Of Covaxin, ...      1\n",
       "4    New Delhi, Jan 18 (PTI) Healthcare workers in ...      2\n",
       "..                                                 ...    ...\n",
       "169  Myself and my wife got Covishield Vaccination ...      1\n",
       "170  Jai Sri Ram #Covaxin #odishathanksmodi #Odisha...      1\n",
       "171  RT @drshashidharbk: @narendramodi ji🙏And @drha...      1\n",
       "172  RT @drshashidharbk: @narendramodi ji🙏And @drha...      1\n",
       "173  Appreciation and thanks from Tamil Nadu CM to ...      1\n",
       "\n",
       "[174 rows x 2 columns]"
      ]
     },
     "execution_count": 3,
     "metadata": {},
     "output_type": "execute_result"
    }
   ],
   "source": [
    "df = pd.read_excel(r\"EdelmanTweetsTrain.xlsx\")\n",
    "\n",
    "df1 = df.Label.replace({-1:2})\n",
    "#0 --> Neutral 1--> Positive 2--> Negative\n",
    "df[\"Label\"] = df1\n",
    "df"
   ]
  },
  {
   "cell_type": "code",
   "execution_count": 4,
   "metadata": {},
   "outputs": [
    {
     "name": "stdout",
     "output_type": "stream",
     "text": [
      "\n"
     ]
    },
    {
     "name": "stderr",
     "output_type": "stream",
     "text": [
      "[nltk_data] Downloading package stopwords to C:\\Users\\Lenovo\n",
      "[nltk_data]     C340\\AppData\\Roaming\\nltk_data...\n",
      "[nltk_data]   Package stopwords is already up-to-date!\n"
     ]
    }
   ],
   "source": [
    "import re\n",
    "import nltk\n",
    "from sklearn.datasets import load_files\n",
    "nltk.download('stopwords')\n",
    "import pickle\n",
    "from nltk.corpus import stopwords\n",
    "print()"
   ]
  },
  {
   "cell_type": "code",
   "execution_count": 5,
   "metadata": {},
   "outputs": [
    {
     "name": "stdout",
     "output_type": "stream",
     "text": [
      "[[' @sadhika_tiwari: A 46-year-old dies after vaccination in Muradabad, UP. The vaccine was Covishield.'\n",
      "  2]\n",
      " [' @mid_day: #MiddayNews | Consent form for #Covaxin shot a cause for concern Via: @vinodkumarmenon Read more: https://t.co/64iu54lcFm https://t.co/If4lPwLbdC'\n",
      "  2]\n",
      " [' @TimesNow: #Breaking | Bharat Biotech to pay compensation if Covaxin causes side effects. Sherine with details. | #IndiaGetsVaccinated https://t.co/QwG0epu7ko'\n",
      "  1]\n",
      " [' @the_fauxy: After No Side Effect Of Covaxin, Liberal Bangs His Head On A Wall To Have Dizziness Reveals CCTV Footage https://t.co/djCDtEXn5I'\n",
      "  1]\n",
      " ['New Delhi, Jan 18 (PTI) Healthcare workers in the national capital are taking into consideration the experience of their colleagues and scouring newspapers and the Internet for information on possible side-effects before going for the COVID-19 vaccin...'\n",
      "  2]\n",
      " [' @LiveLawIndia: \"Covaxin Has Not Completed Phase 3 Trials\": Saket Gokhale Moves Bomaby High Cou Seeks Publication Of Safety & Efficacy Trial Results @SaketGokhale https://t.co/mENjnp3VQx'\n",
      "  2]\n",
      " [\" @svaradarajan: Last week, 49 scientists issued a pro-Covaxin letter, calling those criticising GOI as 'vested interests'. Today, Karan Thapar picks up apa one of the 49, Dr MC Mishra, former AIIMS head, who, unsurprisingly, dials back from his Covaxin enthusiasm! https://t.co/7P5aC8EohM\"\n",
      "  1]\n",
      " [' @dwai_banerjee: In summary, take Covishield if you can (also known as the AstraZeneca-Oxford / Serum Institute vaccine). If can only get Covaxin (known as the Bharat Biotech vaccine) stay safe and isolated and wait for the safety data to be published, or mobilize for access to Covishield. (7/7)'\n",
      "  0]\n",
      " [\" @iAnkurSingh: Whole interview Dr Mishra has suppoed Covaxin. Karan Thapar interrupted, put illogical arguments, put words in his mouth but not once did he say that he doesn't suppo Covaxin. Why's The Wire so Hell bent to target Indian Vaccine and suppo Foreign Interests like Pfizer?\"\n",
      "  1]\n",
      " ['Ceain amount of Covaxin doses will be given free of cost by India as a goodwill gesture to 6 countries.'\n",
      "  1]\n",
      " [\" @dwai_banerjee: To friends in India. Based on my decade of research on drug regulations and safety in India, here's my takeaway on the two Covid vaccines available. if you can get access to Covishield, take it NOW. If you are able to stay safe and isolated - wait on Covaxin. Here's why. (Thread) https://t.co/10LaNE52qk\"\n",
      "  0]\n",
      " [' @adarpoonawalla: I wish India & Sri @narendramodi ji great success in launching the world’s largest COVID vaccination roll-out. It brings me great pride that #COVISHIELD is pa of this historic effo & to endorse it’s safety & efficacy, I join our health workers in taking the vaccine myself. https://t.co/X7sNxjQBN6'\n",
      "  1]\n",
      " [' @LiveLawIndia: Activist Saket S Gokhale has moved the #BombayHighCou against the Drugs Controller General of India, urging that the safety and efficacy trial results of Bharat Biotech\\'s #COVID19 #vaccine \"#Covaxin\" be made public. Read more: https://t.co/a5FmvKnDLV #COVIDVaccination https://t.co/4eQN4RxSwu'\n",
      "  2]\n",
      " [' @CaptainTariq: \"end point of #vaccine testing has been #efficacy against disease…no vaccine claims that it will stop transmission.\":Dr. Shahid Jameel #Watch: https://t.co/7GhK1FCCdy #vaccine #LargestVaccineDrive #VaccinationDrive #IndiaFightsCorona #CoronaVaccine #COVID19 #Covaxin #Covishield https://t.co/WyxW9RlH43'\n",
      "  2]\n",
      " [\" @shammi_Mks: Today our #AtmaNirbharBharat successfully distributed #Sanjeevani #Covaxin to covidwarriors. So #burnol isn't enough 🐒 a tip to all that jali burnol atmas 🤔 listen 🐙🦂🦀🕷🐞🐸🐊🐢🐲🐉🦃 specially congi+cheeni bhayyajis,surely u all will get relieved from the stress, adopt 👇😛\"\n",
      "  1]\n",
      " [\" @dwai_banerjee: To friends in India. Based on my decade of research on drug regulations and safety in India, here's my takeaway on the two Covid vaccines available. if you can get access to Covishield, take it NOW. If you are able to stay safe and isolated - wait on Covaxin. Here's why. (Thread) https://t.co/10LaNE52qk\"\n",
      "  0]\n",
      " [' @Rohitan28100465: Received First dose of COVAXIN today at Lady Hardinge medical College https://t.co/700qDtaa4w'\n",
      "  1]\n",
      " [' @ARanganathan72: The Indian govt is paying more for the Covishield (SII/Oxford/Astra Zeneca) vaccine than European countries - Rs 200 per dose compared to Rs 150 (even without PPP). My views on @TimesNow with @RShivshankar, on the race towards an indigenous vaccine. https://t.co/bQZEYykQnu'\n",
      "  2]\n",
      " [' @ANI: Tamil Nadu Health Secretary Dr J Radhakrishnan took \\'Covaxin\\' shot in Trichy, earlier today. \"Both COVID19 vaccines are safe. I am happy how healthcare workers in the state are responding to vaccination,\" he said. https://t.co/w0AbHA804U'\n",
      "  1]\n",
      " [\" @Poojamadan17: And India's own politicians were raising questions about the vaccines... @BJP4India @INCIndia #COVID19 #CoronaVaccine #Covishield #Covaxin https://t.co/fHu21TQGyL\"\n",
      "  2]\n",
      " [' @cloudno07: Has any one from Malayalam film fraternity thanked our PM for the effective roll out of Covaxin? Imagine if this was done by Pinarayi or Shailaja teacher. Such cowards.'\n",
      "  1]\n",
      " [' @ranjanikanth_: @mla_sudhakar said that Ballari death of vaccine beneficiary was not due to Covishield vaccine, but the person had myocardial infraction. This is the first death repoed in Karnataka post a person receiving vaccine. @XpressBengaluru @NewIndianXpress'\n",
      "  2]\n",
      " ['6 of 100 on the list. #vaccine #VaccinationDrive #Covishield #covaxin'\n",
      "  0]\n",
      " [\" @BhavikaKapoor5: So finally, Bill Gates will gain from his pandemic investment of 2015 (or prior). How many of u can recall Bill Gates lecture on pandemic and Corona type virus in 2015? Now see, he invested Bharat Biotec #Covaxin, that's why BJP govt pushing it 😠😤 https://t.co/cj8aeZ3nL2\"\n",
      "  0]\n",
      " ['New Delhi: AIIMS Director Randeep Guleria on Monday allayed apprehensions about the coronavirus vaccines and assured that the side-effects will not result in death of the beneficiary. The nationwide Covid vaccination drive had commenced on January 16...'\n",
      "  2]\n",
      " [' @SaketGokhale: Shame on the government of Pakistan for hiding the safety & efficacy data of Covaxin from people. Imran Khan should realize that the data cannot stay hidden any longer despite his best effos. Bharat Mata ki Jai. Satyamev Jayate. Jai Hind.'\n",
      "  1]\n",
      " ['Singh said three recipients of Covishield vaccine were admitted each at the Government Medical College in Akola and at the District General Hospital in Buldana while one person was admitted at Deulgaon Raja in Buldana district.'\n",
      "  2]\n",
      " [' @AlokRanjanIAS: My column in Millennium post on the Herculean task of administering the vaccination campaign. There are a lot of logistics and governance issues which would need to be tackled. #CovidVaccine #VaccineForIndia #COVID19 #Covaxin #upgov #COVID19Vaccination https://t.co/pueb2PT1Ix'\n",
      "  0]\n",
      " [\" @BhavikaKapoor5: So finally, Bill Gates will gain from his pandemic investment of 2015 (or prior). How many of u can recall Bill Gates lecture on pandemic and Corona type virus in 2015? Now see, he invested Bharat Biotec #Covaxin, that's why BJP govt pushing it 😠😤 https://t.co/cj8aeZ3nL2\"\n",
      "  0]\n",
      " ['Will the poor get vaccine for free, Congress asks government\\n\\nMonday, 18 January 2021 (7 minutes ago )\\n\\n💡 newsR Knowledge: Other News Mentions\\n\\nLegislature of the United States\\n\\nCongress is misleading people on safety of indigenous vaccine, says Ami...'\n",
      "  0]\n",
      " [\"Union Home Minister Amit Shah on Sunday said that the surgical strikes carried out by India inside Pakistan after the terror attacks in Uri and Pulwama had given the public the confidence that the nation's borders are safe under the Narendra Modi led...\"\n",
      "  0]\n",
      " [' @SaketGokhale: On 4th Jan, Krishna Ella of @BharatBiotech said publicly that his company would put out data that shows the efficacy of Covaxin against the mutant strain WITHIN 1 WEEK. It’s been 2 weeks now & there’s so sign of it. What’s cooking? https://t.co/RQ864GaDAM'\n",
      "  2]\n",
      " ['1.Covishield has developed by Oxford University, India is their manufacturing partner. 2. The other vaccine \"Covaxin\" is India’s first indigenous vaccine. Developed by @BharatBiotech.'\n",
      "  0]\n",
      " [\"RT @svaradarajan: Last week, 49 scientists issued a pro-Covaxin letter, calling those criticising GOI as 'vested interests'. Today, Karan Thapar picks up apart one of the 49, Dr MC Mishra, former AIIMS head, who, unsurprisingly, dials back from his Covaxin enthusiasm! https://t.co/7P5aC8EohM\"\n",
      "  0]\n",
      " ['RT @SaketGokhale: Shame on the government of Pakistan for hiding the safety & efficacy data of Covaxin from people. Imran Khan should realize that the data cannot stay hidden any longer despite his best efforts. Bharat Mata ki Jai. Satyamev Jayate. Jai Hind.'\n",
      "  1]\n",
      " ['#covaxine #covaxin @BharatBiotech India’s first indigenous vaccine - Covaxin - will be given free of cost as a goodwill gesture to Myanmar, Mongolia, Oman, Bahrain, Philippines, Maldives, Mauritius. 8.1 lakh doses.'\n",
      "  0]\n",
      " ['RT @rssurjewala: Q2. Pricing of ‘Covishield & Covaxin’. Why should our Govt pay more i.e. ₹200 for AstraZeneca Vaccine to Serum Institute of India, more so in view of their promise to supply the vaccine “at no profit”? 2/4 https://t.co/ceOqgtj2so'\n",
      "  2]\n",
      " ['RT @SaketGokhale: Shame on the government of Pakistan for hiding the safety & efficacy data of Covaxin from people. Imran Khan should realize that the data cannot stay hidden any longer despite his best efforts. Bharat Mata ki Jai. Satyamev Jayate. Jai Hind.'\n",
      "  1]\n",
      " ['In 24 hours after healthcare workers were administered vaccine against Covid-19 on Saturday, over 280 cases of adverse event following immunisation (AEFI) were reported from across the state. Officials said \"all cases are mild\" and required no seriou...'\n",
      "  2]\n",
      " ['RT @NewIndianXpress: @gsvasu_TNIE @XpressHyderabad There will be a gap of 28 days between two doses of #CovidVaccine & its effectiveness will begin 14 days after the second dose. More details from the Health Ministry👇 #Covaxin #Covishield #COVID19 https://t.co/9qAtBG2yrF'\n",
      "  0]\n",
      " [\"@arpitachatter And #RMLHospital docs for refusing the #Covaxin..we need more doctors speaking up :( the country can't be forced into trials for a vaccine!!\"\n",
      "  0]\n",
      " ['RT @adarpoonawalla: I wish India & Sri @narendramodi ji great success in launching the world’s largest COVID vaccination roll-out. It brings me great pride that #COVISHIELD is part of this historic effort & to endorse it’s safety & efficacy, I join our health workers in taking the vaccine myself. https://t.co/X7sNxjQBN6'\n",
      "  1]\n",
      " ['Hyderabad, Jan 18 (PTI) The COVID-19 vaccination programme was underway on the second day in Telangana with the government making arrangements in total 324 centres for the inoculation, a senior official of the State government said on Monday. The off...'\n",
      "  0]\n",
      " ['RT @GreatGameIndia: Hospital worker from UP has died just 24 hrs after receiving #COVID19 #vaccine #Covishield from Serum Institute of India. The post mortem report reveals immediate cause of death as “cardiogenic shock/septicemic shock” due to “cardio-pulmonary disease”. https://t.co/N7ywnrdNEw'\n",
      "  2]\n",
      " ['RT @TimesNow: #Breaking | Certain amount of Covaxin doses will be given free of cost by India as a goodwill gesture to 6 countries. More details by Srinjoy. https://t.co/5KNOChk384'\n",
      "  0]\n",
      " ['RT @SaketGokhale: Shame on the government of Pakistan for hiding the safety & efficacy data of Covaxin from people. Imran Khan should realize that the data cannot stay hidden any longer despite his best efforts. Bharat Mata ki Jai. Satyamev Jayate. Jai Hind.'\n",
      "  1]\n",
      " ['RT @HaryaxPathak: When I wrote this thread, I had linked to the fact sheets of #COVISHIELD. The fact sheet of #COVAXIN has also been uploaded now. Attaching them here. Read the fact sheets fully before getting vaccinated.'\n",
      "  0]\n",
      " ['\"Covaxin vaccine consent form states that Bharat Biotech will pay compensation if it causes ‘serious adverse event’\" https://t.co/QnBxZg4uHS'\n",
      "  0]\n",
      " ['RT @adarpoonawalla: I wish India & Sri @narendramodi ji great success in launching the world’s largest COVID vaccination roll-out. It brings me great pride that #COVISHIELD is part of this historic effort & to endorse it’s safety & efficacy, I join our health workers in taking the vaccine myself. https://t.co/X7sNxjQBN6'\n",
      "  1]\n",
      " ['RT @PurohitVishwas: On all accounts I think we are fine as far as #Covishield is concerned & as long as #Covaxin is safe we can go ahead: Nandakumar Jairam, Chairman Columbia Asia Hospital #IndiaFightsCOVID19 Watch #Viewpoint with @Zakka_Jacob. https://t.co/BINLWE7Me6'\n",
      "  1]\n",
      " ['RT @SaketGokhale: To add to my prev. tweet: Opposition can & must be blamed for not speaking in 1 voice & hammering an issue. Eg.: @ManishTewari is relentlessly questioning the govt on Covaxin data. Others are talking about something else. You can’t have 20 leaders saying 20 different things.'\n",
      "  2]\n",
      " [\"RT @DocVatsa: Why we ignore evidence? I mean Covaxin doesn't have phase 3 evidence, but we ignore it's absence!! And lot of evidence has surfaced in alleged leaks of Arnab's chats, & we aren't investigating!! Either way, the reality will affect/govern us, even if we shut our eyes to evidence.\"\n",
      "  2]\n",
      " [\"Yeah! We shouldn't care of fake news about vaccines! But when a national newspaper publishes it's report on the being skeptic about efficacy of COVAXIN, saying it's making its clinical trials here, on health workers.. Y should we stay numb? Any counter argument? #vaccine https://t.co/c3DOMwf0wx\"\n",
      "  2]\n",
      " ['RT @BefittingFacts: As India starts vaccination, be prepared for such false propaganda •Non BJP states getting Covaxin n BJP states getting Covishield. •Man tested positive days after getting vaccinated. •Man who took Vaccine died mysterious death. •No vaccination in Muslims dominated area.'\n",
      "  0]\n",
      " ['RT @dwai_banerjee: Covaxin (Bharat Biotech) on the other hand, has been rushed by the government. It is being distributed without the safety and efficacy trials have been completed and the data published (3/7)'\n",
      "  2]\n",
      " [\"RT @ranjona: Please be specific. Shri Narendra Modi PM ji should be the first to take Bharat Biotech's #Covaxin, to build morale. #Courage #56Inches Then 14 days after the second dose everyone else in the country can be offered Covaxin as a choice. By way, not Pfizer in a Covaxin bottle. https://t.co/G9jlcW5pwu\"\n",
      "  0]\n",
      " ['RT @SaketGokhale: Shame on the government of Pakistan for hiding the safety & efficacy data of Covaxin from people. Imran Khan should realize that the data cannot stay hidden any longer despite his best efforts. Bharat Mata ki Jai. Satyamev Jayate. Jai Hind.'\n",
      "  1]\n",
      " [\"RT @dwai_banerjee: To friends in India. Based on my decade of research on drug regulations and safety in India, here's my takeaway on the two Covid vaccines available. if you can get access to Covishield, take it NOW. If you are able to stay safe and isolated - wait on Covaxin. Here's why. (Thread) https://t.co/10LaNE52qk\"\n",
      "  0]\n",
      " ['#Maharashtra: 7 persons hospitalised a day after receiving #Covishield vaccine. https://t.co/rZe3ifQ15p'\n",
      "  2]\n",
      " ['RT @TimesNow: #Breaking | Bharat Biotech to pay compensation if Covaxin causes side effects. Sherine with details. | #IndiaGetsVaccinated https://t.co/QwG0epu7ko'\n",
      "  1]\n",
      " ['RT @SaketGokhale: Shame on the government of Pakistan for hiding the safety & efficacy data of Covaxin from people. Imran Khan should realize that the data cannot stay hidden any longer despite his best efforts. Bharat Mata ki Jai. Satyamev Jayate. Jai Hind.'\n",
      "  1]\n",
      " ['@sowmyamani10 @RAKRI1 @xpresstn @NewIndianXpress Can you confirm whether @RAKRI1 indeed did get the covaxin vaccine? If he really did his courage is commendable.'\n",
      "  0]\n",
      " ['RT @anitajoshua: If the PM or any minister had taken #Covaxin it would have gone a long way in instilling confidence in ghos vaccine. Why should people agree to be experimented on without hesitation when our leaders are not taking the vaccine.'\n",
      "  2]\n",
      " ['RT @SaketGokhale: Shame on the government of Pakistan for hiding the safety & efficacy data of Covaxin from people. Imran Khan should realize that the data cannot stay hidden any longer despite his best efforts. Bharat Mata ki Jai. Satyamev Jayate. Jai Hind.'\n",
      "  1]\n",
      " ['RT @SKodineya: Launch #LargestVaccineDrive by PM Sh @narendramodi Ji across 3000+ vaccine centres taken us closer to ending this #pandemic Indigenously manufactured COVISHIELD & COVAXIN have proven safety & immunogenicity records.Appeal plz not to pay heed to rumours or misinformation campaign. https://t.co/mFSRNmMBad'\n",
      "  1]\n",
      " ['@vijayjdarda Amazing article! The two vaccines Covaxin and Covishield -- allowed in India -- are completely safe. We should trust the words of the scientists.'\n",
      "  1]\n",
      " ['RT @SaketGokhale: Shame on the government of Pakistan for hiding the safety & efficacy data of Covaxin from people. Imran Khan should realize that the data cannot stay hidden any longer despite his best efforts. Bharat Mata ki Jai. Satyamev Jayate. Jai Hind.'\n",
      "  1]\n",
      " ['Good morning Indian vaccine is 100% safe India has decided that this Indian vaccine name \"cOvid shield\" and covaxin,\" will send to all countries to help to to To eliminate cOvid 19 from this world https://t.co/2czKnCSAbv'\n",
      "  1]\n",
      " ['RT @SaketGokhale: Shame on the government of Pakistan for hiding the safety & efficacy data of Covaxin from people. Imran Khan should realize that the data cannot stay hidden any longer despite his best efforts. Bharat Mata ki Jai. Satyamev Jayate. Jai Hind.'\n",
      "  1]\n",
      " ['The calm that marked the start of the anti-Covid vaccination drive was a far cry from the panic and unpreparedness that propelled India into a prolonged nationwide lockdown ten months ago. Tremendous capacity expansion in public health, and the susta...'\n",
      "  0]\n",
      " ['RT @snehamordani: Exclusive - Sources tell @CNNnews18 that India’s first indigenous vaccine - Covaxin - will be given free of cost as a goodwill gesture to Myanmar, Mongolia, Oman, Bahrain, Philippines, Maldives, Mauritius. 8.1 lakh doses .'\n",
      "  0]\n",
      " [\"RT @dwai_banerjee: To friends in India. Based on my decade of research on drug regulations and safety in India, here's my takeaway on the two Covid vaccines available. if you can get access to Covishield, take it NOW. If you are able to stay safe and isolated - wait on Covaxin. Here's why. (Thread) https://t.co/10LaNE52qk\"\n",
      "  0]\n",
      " ['On January 16, India launched the world’s largest vaccination drive. By the evening, the Union Health Ministry provided data of over 1.9 lakh people who had received the first shots of the vaccine. The first day of Covid-19 vaccination in India saw 1...'\n",
      "  0]\n",
      " ['India began the largest vaccination drive in its history with over 2 lakh people vaccinated across the country in 3,350 sessions on the first day. Covishield manufactured at the Serum Institute of India was available in all States whereas only 12 Sta...'\n",
      "  0]\n",
      " ['@bipolar_biped Perfectly put. And if you see the original post by @Ateendriyo, the image, it uses the words \"India\\'s corona vaccine\". Why label it like that? The recipient lives in India, vaccinated in India (COVISHIELD). Then why label as \"India\\'s corona vaccine\"?'\n",
      "  0]\n",
      " ['RT @ShibuVarkey_dr: @dwai_banerjee @AviDmr250 A simple question, why did AIIMS director choose covishield, when he says that one cannot be choosy and should receive either of the two whichever is offered? https://t.co/cNJccdtnND'\n",
      "  2]\n",
      " ['RT @blsanthosh: State capitals received #Covishield vaccine to be moved to smaller places to be ready for Jan 16 roll out . The vaccine has a message of “ SARVE SANTU NIRAMAYAHA “ on package meaning let everyone be free of diseases . https://t.co/V5BOdVcU6g'\n",
      "  0]\n",
      " ['Rajneeti News (4 more Covid-19 vaccines in different stages of trial: Serum Institute of India : The Tribune India) New Delhi, January 17 Apart from Covishield, the Serum Institute of India (SII) is working on four more ... has been published on Rajneeti News - ...'\n",
      "  0]\n",
      " ['RT @SaketGokhale: Shame on the government of Pakistan for hiding the safety & efficacy data of Covaxin from people. Imran Khan should realize that the data cannot stay hidden any longer despite his best efforts. Bharat Mata ki Jai. Satyamev Jayate. Jai Hind.'\n",
      "  1]\n",
      " [\"RT @iAnkurSingh: Whole interview Dr Mishra has supported Covaxin. Karan Thapar interrupted, put illogical arguments, put words in his mouth but not once did he say that he doesn't support Covaxin. Why's The Wire so Hell bent to target Indian Vaccine and support Foreign Interests like Pfizer?\"\n",
      "  1]\n",
      " ['RT @SaketGokhale: To add to my prev. tweet: Opposition can & must be blamed for not speaking in 1 voice & hammering an issue. Eg.: @ManishTewari is relentlessly questioning the govt on Covaxin data. Others are talking about something else. You can’t have 20 leaders saying 20 different things.'\n",
      "  0]\n",
      " ['RT @SaketGokhale: Shame on the government of Pakistan for hiding the safety & efficacy data of Covaxin from people. Imran Khan should realize that the data cannot stay hidden any longer despite his best efforts. Bharat Mata ki Jai. Satyamev Jayate. Jai Hind.'\n",
      "  1]\n",
      " [\"RT @svaradarajan: Last week, 49 scientists issued a pro-Covaxin letter, calling those criticising GOI as 'vested interests'. Today, Karan Thapar picks up apart one of the 49, Dr MC Mishra, former AIIMS head, who, unsurprisingly, dials back from his Covaxin enthusiasm! https://t.co/7P5aC8EohM\"\n",
      "  1]\n",
      " [\"RT @ShadabKhanIYC: Don't be a coward PM! Come out from the closet, and set an example like these world leaders. #Covaxin https://t.co/WsWqDLd0YR\"\n",
      "  0]\n",
      " ['Kolkata, Jan 18 (PTI) The COVID-19 vaccination drive resumed on Monday at 207 sites across West Bengal with beneficiaries, mostly frontline workers, reaching there as scheduled to receive the doses, a senior official of the Health Department said.  G...'\n",
      "  2]\n",
      " ['New Delhi: Leading steel-producing companies in the country are drawing up plans to vaccinate their employees across offices and plant sites with the start of the nationwide COVID-19 vaccination drive. Domestic steel makers like — Tata Steel, Arcelor...'\n",
      "  1]\n",
      " ['RT @yessirtns: Queen after taking the MADE IN INDIA VACCINE... \"COVAXIN \"... 🤣😂😂😂😂 #vaccinations https://t.co/7VxqTdJ2UC'\n",
      "  0]\n",
      " ['RT @ICMRDELHI: 𝐈𝐧𝐝𝐢𝐚𝐧 𝐯𝐚𝐜𝐜𝐢𝐧𝐞 𝐚𝐠𝐚𝐢𝐧𝐬𝐭 𝐂𝐎𝐕𝐈𝐃-19 𝐝𝐫𝐚𝐰𝐬 𝐠𝐥𝐨𝐛𝐚𝐥 𝐚𝐭𝐭𝐞𝐧𝐭𝐢𝐨𝐧. The results of the #COVAXIN Phase-2 human clinical trials can be accessed at https://t.co/jjl1WifW2q https://t.co/VKfvjeZuOE'\n",
      "  0]\n",
      " ['RT @SaketGokhale: Shame on the government of Pakistan for hiding the safety & efficacy data of Covaxin from people. Imran Khan should realize that the data cannot stay hidden any longer despite his best efforts. Bharat Mata ki Jai. Satyamev Jayate. Jai Hind.'\n",
      "  1]\n",
      " [' @ARanganathan72 @PadmajaJoshi -NaveenKapoor r u serious, or ur brains r in ur ass, translocated, even a single dose of Covaxin or Covishield is not be given to Pakistan even is @ImranKhanPTI begs for it, let citizens of Bastard Nation called Pakistan die of COVID19 ASAP- JAI HIND'\n",
      "  0]\n",
      " ['RT @VinTN: Appreciation and thanks from Tamil Nadu CM to @SerumInstIndia and @BharatBiotech for rolling out vaccine.. #CoronaVaccine #Covishield #Covaxin'\n",
      "  1]\n",
      " ['RT @SaketGokhale: To add to my prev. tweet: Opposition can & must be blamed for not speaking in 1 voice & hammering an issue. Eg.: @ManishTewari is relentlessly questioning the govt on Covaxin data. Others are talking about something else. You can’t have 20 leaders saying 20 different things.'\n",
      "  0]\n",
      " ['RT @VishnuNDTV: Our day at the @SerumInstIndia - a special show on @ndtv where we show the process of Covishield being manufactured with @adarpoonawalla and key scientists at SII. Its fascinating. 5000 doses per MINUTE of Covishield being churned out - there will be no shortage in supply. https://t.co/0V34mKREbm'\n",
      "  1]\n",
      " ['RT @mathewmantony: Can the Nation get to know whether PM @narendramodi who has expedited the #Covaxin , has taken the vaccination ?. Has any of the Ministers taken the vaccination ? Is the peoples life taken for granted ? #COVID19'\n",
      "  0]\n",
      " ['RT @ARanganathan72: The Indian govt is paying more for the Covishield (SII/Oxford/Astra Zeneca) vaccine than European countries - Rs 200 per dose compared to Rs 150 (even without PPP). My views on @TimesNow with @RShivshankar, on the race towards an indigenous vaccine. https://t.co/bQZEYykQnu'\n",
      "  2]\n",
      " ['RT @srinualavilli: So which politician dared enough to take the #Covaxin vaccine? Anyone?'\n",
      "  2]\n",
      " ['RT @HaryaxPathak: 2. #COVISHIELD Fact Sheet and Product Information. https://t.co/R4e7HylqiT'\n",
      "  0]\n",
      " ['New Delhi, Jan 18 (PTI) Baghpat native Shiv Kumar rode over 20 km on his bike daily to Rajiv Gandhi hospital in east Delhi during the lockdown, zealously fed coronavirus patients and shared their grief, and on Monday the 19-year-old became the younge...'\n",
      "  2]\n",
      " [\"RT @republic: Congress questions Centre on COVAXIN & COVISHIELD's prices; asks 'why export allowed?' https://t.co/NRwbljrYu5\"\n",
      "  2]\n",
      " ['RT @monadoctor: Display board in Ireland says it all. It’s a matter of concern that 29 persons die after receiving vaccine in #Norway. #vaccine #COVID19 #Covishield #PfizerBioNTech @INCIndia @RahulGandhi @sanjaynirupam @INCMumbai @BhaiJagtap1 https://t.co/ncxYd5oemK'\n",
      "  2]\n",
      " ['RT @rssurjewala: Q3. Why is the Price of Corona Vaccine ₹1,000/dose in ‘Open Market’? When ‘Covishield Vaccine’ is being supplied at ₹200/dose to Govt by SII, why should they be permitted to make a 500% profit for ‘Off the Shelf’ purchase & profiteer at cost of people? 3/4 https://t.co/nA7PXp8cUS'\n",
      "  2]\n",
      " ['RT @SaketGokhale: Shame on the government of Pakistan for hiding the safety & efficacy data of Covaxin from people. Imran Khan should realize that the data cannot stay hidden any longer despite his best efforts. Bharat Mata ki Jai. Satyamev Jayate. Jai Hind.'\n",
      "  1]\n",
      " [\"RT @malludoc: Has any 1 of the anti Covaxin lot including Saket Gokhale seen the India specific data on safety, immunogenicity and efficacy of Covishield? You haven't because it doesn't exist. SII is yet to complete the bridging studies. All this proves is that your primary concern isnt safety\"\n",
      "  2]\n",
      " [\"@BBCHindi These are results for world's largest 3rd Clinical Trail of #Covaxin - Bharat Biotech\"\n",
      "  1]\n",
      " ['Nepal’s drug regulator approved emergency use of the Covishield vaccine being manufactured by the Serum Institute of India #IndiaNews #IndiaNepalTie #PradeepGyawali https://t.co/2YpIOp3oCa'\n",
      "  1]\n",
      " ['RT @iamvanshs: Is it necessary to take Covishield after being administered 2 doses of Covaxin? If Yes-What is the purpose of administering 2 doses of Covaxin? If No-Why was Dr. Salkar administered Covishield after 2 doses of Covaxin? What is the BJP Govt trying to hide? #VaccineChronology👇🏻 https://t.co/ydSYkcUyQM'\n",
      "  0]\n",
      " ['RT @CNBCTV18Live: Govt to export #Covishield to Bhutan, Bangladesh, Seychelles & Myanmar. @MEAIndia will export #Covishield doses as goodwill gesture from India, free of cost #Coronavirus #CovidVaccine #COVID19'\n",
      "  0]\n",
      " ['@popping_polls @narendramodi The current rumours of #facialparalysis it makes sense to wait n watch before taking #Covaxin #covaxine #vaccine #VaccinationDrive #VaccineForIndia #VaccineStrategy #vaccinedeaths #vaccinations #vaccinationCovid #vaccincovid #VaccineDay #vaccinatiestrategie #VaccinoAntiCovid'\n",
      "  2]\n",
      " ['RT @SaketGokhale: To add to my prev. tweet: Opposition can & must be blamed for not speaking in 1 voice & hammering an issue. Eg.: @ManishTewari is relentlessly questioning the govt on Covaxin data. Others are talking about something else. You can’t have 20 leaders saying 20 different things.'\n",
      "  0]\n",
      " ['RT @SaketGokhale: Shame on the government of Pakistan for hiding the safety & efficacy data of Covaxin from people. Imran Khan should realize that the data cannot stay hidden any longer despite his best efforts. Bharat Mata ki Jai. Satyamev Jayate. Jai Hind.'\n",
      "  1]\n",
      " ['RT @SaketGokhale: Complete agree with @ManishTewari here. Questioning the lack of safety & efficacy data of a vaccine does NOT mean being anti-vaccine. What we need is a safe & effective vaccine. All we’re asking is Bharat Biotech or Modi govt puts out data which helps build faith in Covaxin.'\n",
      "  0]\n",
      " ['A traditional welcome!\\n\\nLast week, most States were in a celebratory mood when they welcomed the much-awaited Covid-19 vaccine batches. Garlands,  kumkum, akshat, diya shrifal accompanied by beats of drums marked a Hindustani beginning of the vaccina...'\n",
      "  1]\n",
      " ['New Delhi, Jan 18 (PTI) After administering shots to over 4,300 healthcare workers on the opening day, COVID-19 vaccination teams across the national capital started to give vaccines to more medical staff at various hospitals on Monday. Officials sai...'\n",
      "  0]\n",
      " ['New Delhi, Jan 18 (PTI) Baghpat native Shiv Kumar rode over 20 km on his bike daily to Rajiv Gandhi hospital in east Delhi during the lockdown, zealously fed coronavirus patients and shared their grief, and on Monday the 19-year-old became the younge...'\n",
      "  0]\n",
      " ['RT @MinhazMerchant: Good to see Dr Randeep Guleria, Director of AIIMS, take the #Covaxin shot as did Dr Paul of Niti Aayog & his scientist wife. Will answer the carping critics over safety #VaccinationDrive'\n",
      "  1]\n",
      " ['RT @sadhika_tiwari: A 46-year-old dies after vaccination in Muradabad, UP. The vaccine was Covishield. https://t.co/zWGU0dI9dy'\n",
      "  2]\n",
      " ['RT @ANI: Tamil Nadu Health Secretary Dr J Radhakrishnan took \\'Covaxin\\' shot in Trichy, earlier today. \"Both COVID19 vaccines are safe. I am happy how healthcare workers in the state are responding to vaccination,\" he said. https://t.co/w0AbHA804U'\n",
      "  1]\n",
      " ['RT @kktotlani: #EndVaccinePolitics The Leaders who are grumbling about Covaxin’s safety are generally making a nuisance of themselves.'\n",
      "  0]\n",
      " ['On the second day of the pan-India inoculation drive, as many as 17,072 beneficiaries were vaccinated against at 553 sessions in six states of the country on Sunday, said the  Union Health Ministry .\\n\\nThe Ministry also announced the weekly vaccinatio...'\n",
      "  1]\n",
      " ['RT @fpjindia: Activist Saket Gokhale files writ petition in Bombay HC over lack of Covaxin data @SaketGokhale #vaccination #Covaxin #COVID19Vaccine https://t.co/9h7JL5XWtv'\n",
      "  2]\n",
      " ['A day after receiving Covishield vaccine, seven persons were hospitalised in Akola and Buldana districts of Maharashtra on Sunday with complaints of pains and fever, a senior official said.'\n",
      "  2]\n",
      " [\"RT @iAnkurSingh: Whole interview Dr Mishra has supported Covaxin. Karan Thapar interrupted, put illogical arguments, put words in his mouth but not once did he say that he doesn't support Covaxin. Why's The Wire so Hell bent to target Indian Vaccine and support Foreign Interests like Pfizer?\"\n",
      "  0]\n",
      " ['RT @RojerNath: Had my 2 nd COVAXIn shot today -painless 💉! Hoping not a placebo 😊 2 weeks n then hoping for antibodies to build up 😄 ThankYou @drpandeyak & @esichq Faridabad team for conducting a very professionally managed clinical trial - looking forward to positive results @BharatBiotech https://t.co/tbYxMFdaRs'\n",
      "  1]\n",
      " [\"RT @dwai_banerjee: To friends in India. Based on my decade of research on drug regulations and safety in India, here's my takeaway on the two Covid vaccines available. if you can get access to Covishield, take it NOW. If you are able to stay safe and isolated - wait on Covaxin. Here's why. (Thread) https://t.co/10LaNE52qk\"\n",
      "  0]\n",
      " ['#vaccinationCovid #Covishield https://t.co/OI0ArS7WrY' 0]\n",
      " [\"RT @dwai_banerjee: To friends in India. Based on my decade of research on drug regulations and safety in India, here's my takeaway on the two Covid vaccines available. if you can get access to Covishield, take it NOW. If you are able to stay safe and isolated - wait on Covaxin. Here's why. (Thread) https://t.co/10LaNE52qk\"\n",
      "  0]\n",
      " [\"RT @DocVatsa: Why we ignore evidence? I mean Covaxin doesn't have phase 3 evidence, but we ignore it's absence!! And lot of evidence has surfaced in alleged leaks of Arnab's chats, & we aren't investigating!! Either way, the reality will affect/govern us, even if we shut our eyes to evidence.\"\n",
      "  2]\n",
      " [\"@fanfan21 @EricBellmanWSJ @narendramodi WTH. Well pfizer vaccine is not in use in India. Covishield and covaxin, produced in India are in use. We have a great safety record. Hope this doesn't happen here. It's feels terrible to see that lady suffer.\"\n",
      "  1]\n",
      " ['RT @rssurjewala: Q3. Why is the Price of Corona Vaccine ₹1,000/dose in ‘Open Market’? When ‘Covishield Vaccine’ is being supplied at ₹200/dose to Govt by SII, why should they be permitted to make a 500% profit for ‘Off the Shelf’ purchase & profiteer at cost of people? 3/4 https://t.co/nA7PXp8cUS'\n",
      "  2]\n",
      " ['RT @SaketGokhale: To add to my prev. tweet: Opposition can & must be blamed for not speaking in 1 voice & hammering an issue. Eg.: @ManishTewari is relentlessly questioning the govt on Covaxin data. Others are talking about something else. You can’t have 20 leaders saying 20 different things.'\n",
      "  0]\n",
      " [\"RT @BhavikaKapoor5: So finally, Bill Gates will gain from his pandemic investment of 2015 (or prior). How many of u can recall Bill Gates lecture on pandemic and Corona type virus in 2015? Now see, he invested Bharat Biotec #Covaxin, that's why BJP govt pushing it 😠😤 https://t.co/cj8aeZ3nL2\"\n",
      "  0]\n",
      " ['RT @SaketGokhale: Shame on the government of Pakistan for hiding the safety & efficacy data of Covaxin from people. Imran Khan should realize that the data cannot stay hidden any longer despite his best efforts. Bharat Mata ki Jai. Satyamev Jayate. Jai Hind.'\n",
      "  0]\n",
      " ['RT @BharatBiotech: A moment of pride and accomplishment as the first consignment of COVAXIN™ is dispatched from Bharat Biotech today at 1:00 AM, IST. The indigenous vaccine is all set to vaccinate the nation against the dreadful #SARS_CoV_2 #BharatBiotech #COVAXIN #MakeInIndia #IndiaFightsCorona https://t.co/yqFSSXTl0A'\n",
      "  1]\n",
      " ['RT @SaketGokhale: Shame on the government of Pakistan for hiding the safety & efficacy data of Covaxin from people. Imran Khan should realize that the data cannot stay hidden any longer despite his best efforts. Bharat Mata ki Jai. Satyamev Jayate. Jai Hind.'\n",
      "  0]\n",
      " ['RT @IndiaToday: The CMO has said Mahipal Singh died due to a heart attack, he had taken a shot of the Covishield vaccine. #Moradabad | @abhishek6164 https://t.co/Qp4tcUktsF'\n",
      "  2]\n",
      " ['RT @rssurjewala: Q3. Why is the Price of Corona Vaccine ₹1,000/dose in ‘Open Market’? When ‘Covishield Vaccine’ is being supplied at ₹200/dose to Govt by SII, why should they be permitted to make a 500% profit for ‘Off the Shelf’ purchase & profiteer at cost of people? 3/4 https://t.co/nA7PXp8cUS'\n",
      "  2]\n",
      " ['NEW DELHI: After administering shots to over 4,300 healthcare workers on the opening day, COVID-19 vaccination teams across the national capital started to give vaccines to more medical staff at various hospitals on Monday. Officials said that the va...'\n",
      "  0]\n",
      " ['RT @GreatGameIndia: #BREAKING An Indian hospital worker from Uttar Pradesh has dies just 24 hours after receiving the #COVID19 vaccine #Covishield from Serum Institute of India. https://t.co/N7ywnrdNEw'\n",
      "  2]\n",
      " ['RT @aboyobbhuyan: #EXCLUSIVE || On Record with the Superintendent of GMCH, Dr. @abhijitsarma. On-Air at 6pm only on @thetruthin He answers: 👉🏼 Diff between #COVISHIELD & #COVAXIN? 👉🏼 How is Assam preping? 👉🏼 How it feels to be vaccinated? @himantabiswa @nhm_assam @PomiBaruah #LargestVaccineDrive https://t.co/Jr6Hb4f8mL'\n",
      "  0]\n",
      " [\"RT @iAnkurSingh: Whole interview Dr Mishra has supported Covaxin. Karan Thapar interrupted, put illogical arguments, put words in his mouth but not once did he say that he doesn't support Covaxin. Why's The Wire so Hell bent to target Indian Vaccine and support Foreign Interests like Pfizer?\"\n",
      "  1]\n",
      " [\"RT @iAnkurSingh: Whole interview Dr Mishra has supported Covaxin. Karan Thapar interrupted, put illogical arguments, put words in his mouth but not once did he say that he doesn't support Covaxin. Why's The Wire so Hell bent to target Indian Vaccine and support Foreign Interests like Pfizer? https://t.co/tB5XWZ3Jgh\"\n",
      "  1]\n",
      " ['RT @ChitraAhanthem: anyone wondering if only non BJP rules states are getting #Covaxine while #Covishield is being sent to BJP ones? or are all states getting an equal mix of both #VaccinePolitics'\n",
      "  0]\n",
      " ['Diplomacy    India to export Covid vaccines free of cost to its neighbours as...\\n\\nDiplomacy Health India to export Covid vaccines free of cost to its neighbours as a ‘goodwill gesture’\\n\\nCovaxin will be sent to 7 countries, including Mongolia and Oman...'\n",
      "  0]\n",
      " [\"RT @DOCTORATLARGE: I don't know if this is a side effect, but I felt extremely hungry after getting vaccinated with Covaxin. Consumed enough calories for 2 days\"\n",
      "  2]\n",
      " ['RT @ARanganathan72: The Indian govt is paying more for the Covishield (SII/Oxford/Astra Zeneca) vaccine than European countries - Rs 200 per dose compared to Rs 150 (even without PPP). My views on @TimesNow with @RShivshankar, on the race towards an indigenous vaccine. https://t.co/bQZEYykQnu'\n",
      "  2]\n",
      " ['The COVID-19 vaccination drive\\n\\nresumed on Monday at 207 sites across West Bengal with beneficiaries, mostly frontline workers, reaching there as scheduled to receive the doses, a senior official of the Health Department said.\\n\\nGlitches in the CoWIN ...'\n",
      "  0]\n",
      " ['RT @ARanganathan72: The Indian govt is paying more for the Covishield (SII/Oxford/Astra Zeneca) vaccine than European countries - Rs 200 per dose compared to Rs 150 (even without PPP). My views on @TimesNow with @RShivshankar, on the race towards an indigenous vaccine. https://t.co/bQZEYykQnu'\n",
      "  2]\n",
      " ['RT @SaketGokhale: Shame on the government of Pakistan for hiding the safety & efficacy data of Covaxin from people. Imran Khan should realize that the data cannot stay hidden any longer despite his best efforts. Bharat Mata ki Jai. Satyamev Jayate. Jai Hind.'\n",
      "  1]\n",
      " ['RT @just1doctorwala: Gee I wonder why 🤔 3 of the 11 states that administered Covaxin on Saturday have pointed out that the beneficiaries were reluctant to sign the consent forms resulting in less than 50% strike rate on the first day of the public immunisation drive https://t.co/IWUogjij87'\n",
      "  2]\n",
      " ['India has reported 447 adverse reactions to COVID-19 vaccines as 224,301 people received the first dose of vaccines in the country, the Health Ministry confirmed on Sunday.\\n\\n“Of the 447 Adverse Event Following Immunization (AEFIs), three had to be ho...'\n",
      "  2]\n",
      " ['RT @VidyaKrishnan: Modi is not taking the vaccine he is forcing on Indian citizens because it is not safe. One person died during the trial. Another died yest after receiving the vaccine. #Covaxin'\n",
      "  2]\n",
      " ['RT @cloudno07: Has any one from Malayalam film fraternity thanked our PM for the effective roll out of Covaxin? Imagine if this was done by Pinarayi or Shailaja teacher. Such cowards.'\n",
      "  1]\n",
      " ['RT @adarpoonawalla: I wish India & Sri @narendramodi ji great success in launching the world’s largest COVID vaccination roll-out. It brings me great pride that #COVISHIELD is part of this historic effort & to endorse it’s safety & efficacy, I join our health workers in taking the vaccine myself. https://t.co/X7sNxjQBN6'\n",
      "  1]\n",
      " [\"RT @svaradarajan: Last week, 49 scientists issued a pro-Covaxin letter, calling those criticising GOI as 'vested interests'. Today, Karan Thapar picks up apart one of the 49, Dr MC Mishra, former AIIMS head, who, unsurprisingly, dials back from his Covaxin enthusiasm! https://t.co/7P5aC8EohM\"\n",
      "  1]\n",
      " ['RT @GreatGameIndia: #BREAKING An Indian hospital worker from Uttar Pradesh has dies just 24 hours after receiving the #COVID19 vaccine #Covishield from Serum Institute of India. https://t.co/N7ywnrdNEw'\n",
      "  2]\n",
      " ['Today, India faces its greatest challenge in averting the second wave of the novel coronavirus pandemic that is raging through Europe and the Americas. But as India embarks on the world’s greatest vaccination drive, there is hope that we will stop th...'\n",
      "  1]\n",
      " [\"RT @BhavikaKapoor5: Here's plot..nexus .. commission game between Bharat Biotec Covaxin and PM Modi. Tax payer money being blown up on a vaccine that didn't follow 3rd stage trials. #LargestVaccineDrivePM 👇👇👇👇👇\"\n",
      "  2]\n",
      " ['Visakhapatnam, Jan 17 : As many as 40 frontline workers have been vaccinated for coronavirus at a naval hospital in Andhra Pradesh’s Visakhapatnam.\\n\\n“Covishield vaccine was given to 40 frontline Covid warriors including doctors, nurses, paramedical s...'\n",
      "  1]\n",
      " ['RT @adarpoonawalla: I wish India & Sri @narendramodi ji great success in launching the world’s largest COVID vaccination roll-out. It brings me great pride that #COVISHIELD is part of this historic effort & to endorse it’s safety & efficacy, I join our health workers in taking the vaccine myself. https://t.co/X7sNxjQBN6'\n",
      "  1]\n",
      " ['RT @the_fauxy: After No Side Effect Of Covaxin, Liberal Bangs His Head On A Wall To Have Dizziness Reveals CCTV Footage https://t.co/djCDtEXn5I'\n",
      "  1]\n",
      " ['ON Saturday the vaccination began in J&K with two inaugural ceremonies with Lieutenant Governor (LG) Manoj Sinha launching the drive at Government Medical College, Jammu for the Jammu division and the Advisor to LG Rajeev Rai Bhatnagar starting the p...'\n",
      "  1]\n",
      " ['This would be the biggest financial stimulus of all. A rapidly declining infection rate would have an effect on the economy and kick start the service sector which accounts for 54% of the country’s GDP.\\n\\nA success rate of 64%, out of 316,375 people v...'\n",
      "  1]\n",
      " ['RT @CNBCTV18News: Founders of @BharatBiotech Suchitra & Krishna Ella address the concerns over #Covaxin, controversy over the Bhopal trials & why Indian cos are not getting indemnity in purchase pacts unlike their US & European’s peers @ShereenBhan #Sanjeevani #AShotOfLife https://t.co/NvFDGOqJ89'\n",
      "  1]\n",
      " ['@srinivasaiims Covaxin or Covishield? My friends are posting their pics with Covishield.'\n",
      "  1]\n",
      " ['@narendramodi ji🙏And @drharshvardhan ji 🙏 Thanks and blessed for this privilege/opportunity.Took my first vaccine shot today. It only strengthens our love and responsibility towards our patients😀🙏 @ColumbiaAsiaIn #covid19 #gocoronago #endofcorona #covidvacccine #covishield https://t.co/R0pn1cYdoZ'\n",
      "  1]\n",
      " ['RT @RAKRI1: @NairShilpa1308 Thanks. As one among the HCW from administration side, appreciate the commitment of field functionaries. Got COVAXIN. Thank the scientists for both vaccines a milestone in this fight against COVID. Do also Continue with masks, social distancing, hand washing.'\n",
      "  1]\n",
      " ['RT @RAKRI1: @NairShilpa1308 Thanks. As one among the HCW from administration side, appreciate the commitment of field functionaries. Got COVAXIN. Thank the scientists for both vaccines a milestone in this fight against COVID. Do also Continue with masks, social distancing, hand washing.'\n",
      "  1]\n",
      " ['Kudos to team @narendramodi @PMOIndia @SerumInstIndia @BharatBiotech for #LargestVaccineDrive Very well planned and handled... @ZeeNews @indiatvnews @republic @MoHFW_INDIA @WHO @UN #COVID19Vaccination Special thanks to @adarpoonawalla #Covaxin #Covishield @BJP4India'\n",
      "  1]\n",
      " ['Today I got vaccination for Covid 19 name COVISHIELD I feel good and I glad to inform to all it is safe. Thanks to The Govt. https://t.co/mHayFTbTyL'\n",
      "  1]\n",
      " ['Myself and my wife got Covishield Vaccination at Konganapuram Phc. Thanks to #Covishield #CoronavirusVaccine #CMEdappadiPalaniswami #tnhealth https://t.co/LsJiGz0zXp'\n",
      "  1]\n",
      " ['Jai Sri Ram #Covaxin #odishathanksmodi #OdishaLovesModi https://t.co/0YWJJ0HnY9'\n",
      "  1]\n",
      " ['RT @drshashidharbk: @narendramodi ji🙏And @drharshvardhan ji 🙏 Thanks and blessed for this privilege/opportunity.Took my first vaccine shot today. It only strengthens our love and responsibility towards our patients😀🙏 @ColumbiaAsiaIn #covid19 #gocoronago #endofcorona #covidvacccine #covishield https://t.co/R0pn1cYdoZ'\n",
      "  1]\n",
      " ['RT @drshashidharbk: @narendramodi ji🙏And @drharshvardhan ji 🙏 Thanks and blessed for this privilege/opportunity.Took my first vaccine shot today. It only strengthens our love and responsibility towards our patients😀🙏 @ColumbiaAsiaIn #covid19 #gocoronago #endofcorona #covidvacccine #covishield https://t.co/R0pn1cYdoZ'\n",
      "  1]\n",
      " ['Appreciation and thanks from Tamil Nadu CM to @SerumInstIndia and @BharatBiotech for rolling out vaccine.. #CoronaVaccine #Covishield #Covaxin'\n",
      "  1]]\n"
     ]
    }
   ],
   "source": [
    "array = df.to_numpy()\n",
    "print(array)"
   ]
  },
  {
   "cell_type": "code",
   "execution_count": 6,
   "metadata": {},
   "outputs": [
    {
     "name": "stdout",
     "output_type": "stream",
     "text": [
      "0      2\n",
      "1      2\n",
      "2      1\n",
      "3      1\n",
      "4      2\n",
      "      ..\n",
      "169    1\n",
      "170    1\n",
      "171    1\n",
      "172    1\n",
      "173    1\n",
      "Name: Label, Length: 174, dtype: int64 0       @sadhika_tiwari: A 46-year-old dies after vac...\n",
      "1       @mid_day: #MiddayNews | Consent form for #Cov...\n",
      "2       @TimesNow: #Breaking | Bharat Biotech to pay ...\n",
      "3       @the_fauxy: After No Side Effect Of Covaxin, ...\n",
      "4      New Delhi, Jan 18 (PTI) Healthcare workers in ...\n",
      "                             ...                        \n",
      "169    Myself and my wife got Covishield Vaccination ...\n",
      "170    Jai Sri Ram #Covaxin #odishathanksmodi #Odisha...\n",
      "171    RT @drshashidharbk: @narendramodi ji🙏And @drha...\n",
      "172    RT @drshashidharbk: @narendramodi ji🙏And @drha...\n",
      "173    Appreciation and thanks from Tamil Nadu CM to ...\n",
      "Name: Tweet, Length: 174, dtype: object\n"
     ]
    }
   ],
   "source": [
    "X, y = df.Label, df.Tweet\n",
    "print(X, y)\n"
   ]
  },
  {
   "cell_type": "code",
   "execution_count": 7,
   "metadata": {},
   "outputs": [],
   "source": [
    "X1 , Y1  = X.to_numpy() , y.to_numpy()"
   ]
  },
  {
   "cell_type": "code",
   "execution_count": 8,
   "metadata": {},
   "outputs": [
    {
     "name": "stderr",
     "output_type": "stream",
     "text": [
      "[nltk_data] Downloading package wordnet to C:\\Users\\Lenovo\n",
      "[nltk_data]     C340\\AppData\\Roaming\\nltk_data...\n",
      "[nltk_data]   Package wordnet is already up-to-date!\n"
     ]
    }
   ],
   "source": [
    "import nltk\n",
    "nltk.download('wordnet')\n",
    "documents = []\n",
    "\n",
    "from nltk.stem import WordNetLemmatizer\n",
    "\n",
    "stemmer = WordNetLemmatizer()\n",
    "\n",
    "for sen in range(0, len(Y1)):\n",
    "    # Remove all the special characters\n",
    "    document = re.sub(r'\\W', ' ', str(Y1[sen]))\n",
    "    \n",
    "    # remove all single characters\n",
    "    document = re.sub(r'\\s+[a-zA-Z]\\s+', ' ', document)\n",
    "    \n",
    "    # Remove single characters from the start\n",
    "    document = re.sub(r'\\^[a-zA-Z]\\s+', ' ', document) \n",
    "    \n",
    "    # Substituting multiple spaces with single space\n",
    "    document = re.sub(r'\\s+', ' ', document, flags=re.I)\n",
    "    \n",
    "    # Removing prefixed 'b'\n",
    "    document = re.sub(r'^b\\s+', '', document)\n",
    "    \n",
    "    # Converting to Lowercase\n",
    "    document = document.lower()\n",
    "    \n",
    "    # Lemmatization\n",
    "    document = document.split()\n",
    "\n",
    "    document = [stemmer.lemmatize(word) for word in document]\n",
    "    document = ' '.join(document)\n",
    "    \n",
    "    documents.append(document)"
   ]
  },
  {
   "cell_type": "code",
   "execution_count": 9,
   "metadata": {},
   "outputs": [
    {
     "name": "stdout",
     "output_type": "stream",
     "text": [
      "['sadhika_tiwari 46 year old dy after vaccination in muradabad up the vaccine wa covishield', 'mid_day middaynews consent form for covaxin shot cause for concern via vinodkumarmenon read more http co 64iu54lcfm http co if4lpwlbdc', 'timesnow breaking bharat biotech to pay compensation if covaxin cause side effect sherine with detail indiagetsvaccinated http co qwg0epu7ko', 'the_fauxy after no side effect of covaxin liberal bang his head on wall to have dizziness reveals cctv footage http co djcdtexn5i', 'new delhi jan 18 pti healthcare worker in the national capital are taking into consideration the experience of their colleague and scouring newspaper and the internet for information on possible side effect before going for the covid 19 vaccin', 'livelawindia covaxin ha not completed phase 3 trial saket gokhale move bomaby high cou seek publication of safety efficacy trial result saketgokhale http co menjnp3vqx', 'svaradarajan last week 49 scientist issued pro covaxin letter calling those criticising goi a vested interest today karan thapar pick up apa one of the 49 dr mc mishra former aiims head who unsurprisingly dial back from his covaxin enthusiasm http co 7p5ac8eohm', 'dwai_banerjee in summary take covishield if you can also known a the astrazeneca oxford serum institute vaccine if can only get covaxin known a the bharat biotech vaccine stay safe and isolated and wait for the safety data to be published or mobilize for access to covishield 7 7', 'iankursingh whole interview dr mishra ha suppoed covaxin karan thapar interrupted put illogical argument put word in his mouth but not once did he say that he doesn suppo covaxin why the wire so hell bent to target indian vaccine and suppo foreign interest like pfizer', 'ceain amount of covaxin dos will be given free of cost by india a goodwill gesture to 6 country', 'dwai_banerjee to friend in india based on my decade of research on drug regulation and safety in india here my takeaway on the two covid vaccine available if you can get access to covishield take it now if you are able to stay safe and isolated wait on covaxin here why thread http co 10lane52qk', 'adarpoonawalla wish india sri narendramodi ji great success in launching the world largest covid vaccination roll out it brings me great pride that covishield is pa of this historic effo to endorse it safety efficacy join our health worker in taking the vaccine myself http co x7snxjqbn6', 'livelawindia activist saket gokhale ha moved the bombayhighcou against the drug controller general of india urging that the safety and efficacy trial result of bharat biotech covid19 vaccine covaxin be made public read more http co a5fmvkndlv covidvaccination http co 4eqn4rxswu', 'captaintariq end point of vaccine testing ha been efficacy against disease no vaccine claim that it will stop transmission dr shahid jameel watch http co 7ghk1fccdy vaccine largestvaccinedrive vaccinationdrive indiafightscorona coronavaccine covid19 covaxin covishield http co wyxw9rlh43', 'shammi_mks today our atmanirbharbharat successfully distributed sanjeevani covaxin to covidwarriors so burnol isn enough tip to all that jali burnol atmas listen specially congi cheeni bhayyajis surely all will get relieved from the stress adopt', 'dwai_banerjee to friend in india based on my decade of research on drug regulation and safety in india here my takeaway on the two covid vaccine available if you can get access to covishield take it now if you are able to stay safe and isolated wait on covaxin here why thread http co 10lane52qk', 'rohitan28100465 received first dose of covaxin today at lady hardinge medical college http co 700qdtaa4w', 'aranganathan72 the indian govt is paying more for the covishield sii oxford astra zeneca vaccine than european country r 200 per dose compared to r 150 even without ppp my view on timesnow with rshivshankar on the race towards an indigenous vaccine http co bqzeyykqnu', 'ani tamil nadu health secretary dr radhakrishnan took covaxin shot in trichy earlier today both covid19 vaccine are safe am happy how healthcare worker in the state are responding to vaccination he said http co w0abha804u', 'poojamadan17 and india own politician were raising question about the vaccine bjp4india incindia covid19 coronavaccine covishield covaxin http co fhu21tqgyl', 'cloudno07 ha any one from malayalam film fraternity thanked our pm for the effective roll out of covaxin imagine if this wa done by pinarayi or shailaja teacher such coward', 'ranjanikanth_ mla_sudhakar said that ballari death of vaccine beneficiary wa not due to covishield vaccine but the person had myocardial infraction this is the first death repoed in karnataka post person receiving vaccine xpressbengaluru newindianxpress', '6 of 100 on the list vaccine vaccinationdrive covishield covaxin', 'bhavikakapoor5 so finally bill gate will gain from his pandemic investment of 2015 or prior how many of can recall bill gate lecture on pandemic and corona type virus in 2015 now see he invested bharat biotec covaxin that why bjp govt pushing it http co cj8aez3nl2', 'new delhi aiims director randeep guleria on monday allayed apprehension about the coronavirus vaccine and assured that the side effect will not result in death of the beneficiary the nationwide covid vaccination drive had commenced on january 16', 'saketgokhale shame on the government of pakistan for hiding the safety efficacy data of covaxin from people imran khan should realize that the data cannot stay hidden any longer despite his best effos bharat mata ki jai satyamev jayate jai hind', 'singh said three recipient of covishield vaccine were admitted each at the government medical college in akola and at the district general hospital in buldana while one person wa admitted at deulgaon raja in buldana district', 'alokranjanias my column in millennium post on the herculean task of administering the vaccination campaign there are lot of logistics and governance issue which would need to be tackled covidvaccine vaccineforindia covid19 covaxin upgov covid19vaccination http co pueb2pt1ix', 'bhavikakapoor5 so finally bill gate will gain from his pandemic investment of 2015 or prior how many of can recall bill gate lecture on pandemic and corona type virus in 2015 now see he invested bharat biotec covaxin that why bjp govt pushing it http co cj8aez3nl2', 'will the poor get vaccine for free congress asks government monday 18 january 2021 7 minute ago newsr knowledge other news mention legislature of the united state congress is misleading people on safety of indigenous vaccine say ami', 'union home minister amit shah on sunday said that the surgical strike carried out by india inside pakistan after the terror attack in uri and pulwama had given the public the confidence that the nation border are safe under the narendra modi led', 'saketgokhale on 4th jan krishna ella of bharatbiotech said publicly that his company would put out data that show the efficacy of covaxin against the mutant strain within 1 week it been 2 week now there so sign of it what cooking http co rq864gadam', '1 covishield ha developed by oxford university india is their manufacturing partner 2 the other vaccine covaxin is india first indigenous vaccine developed by bharatbiotech', 'rt svaradarajan last week 49 scientist issued pro covaxin letter calling those criticising goi a vested interest today karan thapar pick up apart one of the 49 dr mc mishra former aiims head who unsurprisingly dial back from his covaxin enthusiasm http co 7p5ac8eohm', 'rt saketgokhale shame on the government of pakistan for hiding the safety efficacy data of covaxin from people imran khan should realize that the data cannot stay hidden any longer despite his best effort bharat mata ki jai satyamev jayate jai hind', 'covaxine covaxin bharatbiotech india first indigenous vaccine covaxin will be given free of cost a goodwill gesture to myanmar mongolia oman bahrain philippine maldives mauritius 8 1 lakh dos', 'rt rssurjewala q2 pricing of covishield covaxin why should our govt pay more e 200 for astrazeneca vaccine to serum institute of india more so in view of their promise to supply the vaccine at no profit 2 4 http co ceoqgtj2so', 'rt saketgokhale shame on the government of pakistan for hiding the safety efficacy data of covaxin from people imran khan should realize that the data cannot stay hidden any longer despite his best effort bharat mata ki jai satyamev jayate jai hind', 'in 24 hour after healthcare worker were administered vaccine against covid 19 on saturday over 280 case of adverse event following immunisation aefi were reported from across the state official said all case are mild and required no seriou', 'rt newindianxpress gsvasu_tnie xpresshyderabad there will be gap of 28 day between two dos of covidvaccine it effectiveness will begin 14 day after the second dose more detail from the health ministry covaxin covishield covid19 http co 9qatbg2yrf', 'arpitachatter and rmlhospital doc for refusing the covaxin we need more doctor speaking up the country can be forced into trial for vaccine', 'rt adarpoonawalla wish india sri narendramodi ji great success in launching the world largest covid vaccination roll out it brings me great pride that covishield is part of this historic effort to endorse it safety efficacy join our health worker in taking the vaccine myself http co x7snxjqbn6', 'hyderabad jan 18 pti the covid 19 vaccination programme wa underway on the second day in telangana with the government making arrangement in total 324 centre for the inoculation senior official of the state government said on monday the off', 'rt greatgameindia hospital worker from up ha died just 24 hr after receiving covid19 vaccine covishield from serum institute of india the post mortem report reveals immediate cause of death a cardiogenic shock septicemic shock due to cardio pulmonary disease http co n7ywnrdnew', 'rt timesnow breaking certain amount of covaxin dos will be given free of cost by india a goodwill gesture to 6 country more detail by srinjoy http co 5knochk384', 'rt saketgokhale shame on the government of pakistan for hiding the safety efficacy data of covaxin from people imran khan should realize that the data cannot stay hidden any longer despite his best effort bharat mata ki jai satyamev jayate jai hind', 'rt haryaxpathak when wrote this thread had linked to the fact sheet of covishield the fact sheet of covaxin ha also been uploaded now attaching them here read the fact sheet fully before getting vaccinated', 'covaxin vaccine consent form state that bharat biotech will pay compensation if it cause serious adverse event http co qnbxzg4uhs', 'rt adarpoonawalla wish india sri narendramodi ji great success in launching the world largest covid vaccination roll out it brings me great pride that covishield is part of this historic effort to endorse it safety efficacy join our health worker in taking the vaccine myself http co x7snxjqbn6', 'rt purohitvishwas on all account think we are fine a far a covishield is concerned a long a covaxin is safe we can go ahead nandakumar jairam chairman columbia asia hospital indiafightscovid19 watch viewpoint with zakka_jacob http co binlwe7me6', 'rt saketgokhale to add to my prev tweet opposition can must be blamed for not speaking in 1 voice hammering an issue eg manishtewari is relentlessly questioning the govt on covaxin data others are talking about something else you can have 20 leader saying 20 different thing', 'rt docvatsa why we ignore evidence mean covaxin doesn have phase 3 evidence but we ignore it absence and lot of evidence ha surfaced in alleged leak of arnab chat we aren investigating either way the reality will affect govern u even if we shut our eye to evidence', 'yeah we shouldn care of fake news about vaccine but when national newspaper publishes it report on the being skeptic about efficacy of covaxin saying it making it clinical trial here on health worker should we stay numb any counter argument vaccine http co c3domwf0wx', 'rt befittingfacts a india start vaccination be prepared for such false propaganda non bjp state getting covaxin bjp state getting covishield man tested positive day after getting vaccinated man who took vaccine died mysterious death no vaccination in muslim dominated area', 'rt dwai_banerjee covaxin bharat biotech on the other hand ha been rushed by the government it is being distributed without the safety and efficacy trial have been completed and the data published 3 7', 'rt ranjona please be specific shri narendra modi pm ji should be the first to take bharat biotech covaxin to build morale courage 56inches then 14 day after the second dose everyone else in the country can be offered covaxin a choice by way not pfizer in covaxin bottle http co g9jlcw5pwu', 'rt saketgokhale shame on the government of pakistan for hiding the safety efficacy data of covaxin from people imran khan should realize that the data cannot stay hidden any longer despite his best effort bharat mata ki jai satyamev jayate jai hind', 'rt dwai_banerjee to friend in india based on my decade of research on drug regulation and safety in india here my takeaway on the two covid vaccine available if you can get access to covishield take it now if you are able to stay safe and isolated wait on covaxin here why thread http co 10lane52qk', 'maharashtra 7 person hospitalised day after receiving covishield vaccine http co rze3ifq15p', 'rt timesnow breaking bharat biotech to pay compensation if covaxin cause side effect sherine with detail indiagetsvaccinated http co qwg0epu7ko', 'rt saketgokhale shame on the government of pakistan for hiding the safety efficacy data of covaxin from people imran khan should realize that the data cannot stay hidden any longer despite his best effort bharat mata ki jai satyamev jayate jai hind', 'sowmyamani10 rakri1 xpresstn newindianxpress can you confirm whether rakri1 indeed did get the covaxin vaccine if he really did his courage is commendable', 'rt anitajoshua if the pm or any minister had taken covaxin it would have gone long way in instilling confidence in ghos vaccine why should people agree to be experimented on without hesitation when our leader are not taking the vaccine', 'rt saketgokhale shame on the government of pakistan for hiding the safety efficacy data of covaxin from people imran khan should realize that the data cannot stay hidden any longer despite his best effort bharat mata ki jai satyamev jayate jai hind', 'rt skodineya launch largestvaccinedrive by pm sh narendramodi ji across 3000 vaccine centre taken u closer to ending this pandemic indigenously manufactured covishield covaxin have proven safety immunogenicity record appeal plz not to pay heed to rumour or misinformation campaign http co mfsrnmmbad', 'vijayjdarda amazing article the two vaccine covaxin and covishield allowed in india are completely safe we should trust the word of the scientist', 'rt saketgokhale shame on the government of pakistan for hiding the safety efficacy data of covaxin from people imran khan should realize that the data cannot stay hidden any longer despite his best effort bharat mata ki jai satyamev jayate jai hind', 'good morning indian vaccine is 100 safe india ha decided that this indian vaccine name covid shield and covaxin will send to all country to help to to to eliminate covid 19 from this world http co 2czkncsabv', 'rt saketgokhale shame on the government of pakistan for hiding the safety efficacy data of covaxin from people imran khan should realize that the data cannot stay hidden any longer despite his best effort bharat mata ki jai satyamev jayate jai hind', 'the calm that marked the start of the anti covid vaccination drive wa far cry from the panic and unpreparedness that propelled india into prolonged nationwide lockdown ten month ago tremendous capacity expansion in public health and the susta', 'rt snehamordani exclusive source tell cnnnews18 that india first indigenous vaccine covaxin will be given free of cost a goodwill gesture to myanmar mongolia oman bahrain philippine maldives mauritius 8 1 lakh dos', 'rt dwai_banerjee to friend in india based on my decade of research on drug regulation and safety in india here my takeaway on the two covid vaccine available if you can get access to covishield take it now if you are able to stay safe and isolated wait on covaxin here why thread http co 10lane52qk', 'on january 16 india launched the world largest vaccination drive by the evening the union health ministry provided data of over 1 9 lakh people who had received the first shot of the vaccine the first day of covid 19 vaccination in india saw 1', 'india began the largest vaccination drive in it history with over 2 lakh people vaccinated across the country in 3 350 session on the first day covishield manufactured at the serum institute of india wa available in all state whereas only 12 sta', 'bipolar_biped perfectly put and if you see the original post by ateendriyo the image it us the word india corona vaccine why label it like that the recipient life in india vaccinated in india covishield then why label a india corona vaccine', 'rt shibuvarkey_dr dwai_banerjee avidmr250 simple question why did aiims director choose covishield when he say that one cannot be choosy and should receive either of the two whichever is offered http co cnjccdtnnd', 'rt blsanthosh state capital received covishield vaccine to be moved to smaller place to be ready for jan 16 roll out the vaccine ha message of sarve santu niramayaha on package meaning let everyone be free of disease http co v5bodvcu6g', 'rajneeti news 4 more covid 19 vaccine in different stage of trial serum institute of india the tribune india new delhi january 17 apart from covishield the serum institute of india sii is working on four more ha been published on rajneeti news', 'rt saketgokhale shame on the government of pakistan for hiding the safety efficacy data of covaxin from people imran khan should realize that the data cannot stay hidden any longer despite his best effort bharat mata ki jai satyamev jayate jai hind', 'rt iankursingh whole interview dr mishra ha supported covaxin karan thapar interrupted put illogical argument put word in his mouth but not once did he say that he doesn support covaxin why the wire so hell bent to target indian vaccine and support foreign interest like pfizer', 'rt saketgokhale to add to my prev tweet opposition can must be blamed for not speaking in 1 voice hammering an issue eg manishtewari is relentlessly questioning the govt on covaxin data others are talking about something else you can have 20 leader saying 20 different thing', 'rt saketgokhale shame on the government of pakistan for hiding the safety efficacy data of covaxin from people imran khan should realize that the data cannot stay hidden any longer despite his best effort bharat mata ki jai satyamev jayate jai hind', 'rt svaradarajan last week 49 scientist issued pro covaxin letter calling those criticising goi a vested interest today karan thapar pick up apart one of the 49 dr mc mishra former aiims head who unsurprisingly dial back from his covaxin enthusiasm http co 7p5ac8eohm', 'rt shadabkhaniyc don be coward pm come out from the closet and set an example like these world leader covaxin http co wswqdld0yr', 'kolkata jan 18 pti the covid 19 vaccination drive resumed on monday at 207 site across west bengal with beneficiary mostly frontline worker reaching there a scheduled to receive the dos senior official of the health department said', 'new delhi leading steel producing company in the country are drawing up plan to vaccinate their employee across office and plant site with the start of the nationwide covid 19 vaccination drive domestic steel maker like tata steel arcelor', 'rt yessirtns queen after taking the made in india vaccine covaxin vaccination http co 7vxqtdj2uc', 'rt icmrdelhi 𝐈𝐧𝐝𝐢𝐚𝐧 𝐯𝐚𝐜𝐜𝐢𝐧𝐞 𝐚𝐠𝐚𝐢𝐧𝐬𝐭 𝐂𝐎𝐕𝐈𝐃 19 𝐝𝐫𝐚𝐰𝐬 𝐠𝐥𝐨𝐛𝐚𝐥 𝐚𝐭𝐭𝐞𝐧𝐭𝐢𝐨𝐧 the result of the covaxin phase 2 human clinical trial can be accessed at http co jjl1wifw2q http co vkfvjezuoe', 'rt saketgokhale shame on the government of pakistan for hiding the safety efficacy data of covaxin from people imran khan should realize that the data cannot stay hidden any longer despite his best effort bharat mata ki jai satyamev jayate jai hind', 'aranganathan72 padmajajoshi naveenkapoor u serious or ur brain in ur as translocated even single dose of covaxin or covishield is not be given to pakistan even is imrankhanpti begs for it let citizen of bastard nation called pakistan die of covid19 asap jai hind', 'rt vintn appreciation and thanks from tamil nadu cm to seruminstindia and bharatbiotech for rolling out vaccine coronavaccine covishield covaxin', 'rt saketgokhale to add to my prev tweet opposition can must be blamed for not speaking in 1 voice hammering an issue eg manishtewari is relentlessly questioning the govt on covaxin data others are talking about something else you can have 20 leader saying 20 different thing', 'rt vishnundtv our day at the seruminstindia special show on ndtv where we show the process of covishield being manufactured with adarpoonawalla and key scientist at sii it fascinating 5000 dos per minute of covishield being churned out there will be no shortage in supply http co 0v34mkrebm', 'rt mathewmantony can the nation get to know whether pm narendramodi who ha expedited the covaxin ha taken the vaccination ha any of the minister taken the vaccination is the people life taken for granted covid19', 'rt aranganathan72 the indian govt is paying more for the covishield sii oxford astra zeneca vaccine than european country r 200 per dose compared to r 150 even without ppp my view on timesnow with rshivshankar on the race towards an indigenous vaccine http co bqzeyykqnu', 'rt srinualavilli so which politician dared enough to take the covaxin vaccine anyone', 'rt haryaxpathak 2 covishield fact sheet and product information http co r4e7hylqit', 'new delhi jan 18 pti baghpat native shiv kumar rode over 20 km on his bike daily to rajiv gandhi hospital in east delhi during the lockdown zealously fed coronavirus patient and shared their grief and on monday the 19 year old became the younge', 'rt republic congress question centre on covaxin covishield price asks why export allowed http co nrwbljryu5', 'rt monadoctor display board in ireland say it all it a matter of concern that 29 person die after receiving vaccine in norway vaccine covid19 covishield pfizerbiontech incindia rahulgandhi sanjaynirupam incmumbai bhaijagtap1 http co ncxyd5oemk', 'rt rssurjewala q3 why is the price of corona vaccine 1 000 dose in open market when covishield vaccine is being supplied at 200 dose to govt by sii why should they be permitted to make 500 profit for off the shelf purchase profiteer at cost of people 3 4 http co na7pxp8cus', 'rt saketgokhale shame on the government of pakistan for hiding the safety efficacy data of covaxin from people imran khan should realize that the data cannot stay hidden any longer despite his best effort bharat mata ki jai satyamev jayate jai hind', 'rt malludoc ha any 1 of the anti covaxin lot including saket gokhale seen the india specific data on safety immunogenicity and efficacy of covishield you haven because it doesn exist sii is yet to complete the bridging study all this prof is that your primary concern isnt safety', 'bbchindi these are result for world largest 3rd clinical trail of covaxin bharat biotech', 'nepal drug regulator approved emergency use of the covishield vaccine being manufactured by the serum institute of india indianews indianepaltie pradeepgyawali http co 2ypiop3oca', 'rt iamvanshs is it necessary to take covishield after being administered 2 dos of covaxin if yes what is the purpose of administering 2 dos of covaxin if no why wa dr salkar administered covishield after 2 dos of covaxin what is the bjp govt trying to hide vaccinechronology http co ydsykcuyqm', 'rt cnbctv18live govt to export covishield to bhutan bangladesh seychelles myanmar meaindia will export covishield dos a goodwill gesture from india free of cost coronavirus covidvaccine covid19', 'popping_polls narendramodi the current rumour of facialparalysis it make sense to wait watch before taking covaxin covaxine vaccine vaccinationdrive vaccineforindia vaccinestrategy vaccinedeaths vaccination vaccinationcovid vaccincovid vaccineday vaccinatiestrategie vaccinoanticovid', 'rt saketgokhale to add to my prev tweet opposition can must be blamed for not speaking in 1 voice hammering an issue eg manishtewari is relentlessly questioning the govt on covaxin data others are talking about something else you can have 20 leader saying 20 different thing', 'rt saketgokhale shame on the government of pakistan for hiding the safety efficacy data of covaxin from people imran khan should realize that the data cannot stay hidden any longer despite his best effort bharat mata ki jai satyamev jayate jai hind', 'rt saketgokhale complete agree with manishtewari here questioning the lack of safety efficacy data of vaccine doe not mean being anti vaccine what we need is safe effective vaccine all we re asking is bharat biotech or modi govt put out data which help build faith in covaxin', 'a traditional welcome last week most state were in celebratory mood when they welcomed the much awaited covid 19 vaccine batch garland kumkum akshat diya shrifal accompanied by beat of drum marked hindustani beginning of the vaccina', 'new delhi jan 18 pti after administering shot to over 4 300 healthcare worker on the opening day covid 19 vaccination team across the national capital started to give vaccine to more medical staff at various hospital on monday official sai', 'new delhi jan 18 pti baghpat native shiv kumar rode over 20 km on his bike daily to rajiv gandhi hospital in east delhi during the lockdown zealously fed coronavirus patient and shared their grief and on monday the 19 year old became the younge', 'rt minhazmerchant good to see dr randeep guleria director of aiims take the covaxin shot a did dr paul of niti aayog his scientist wife will answer the carping critic over safety vaccinationdrive', 'rt sadhika_tiwari 46 year old dy after vaccination in muradabad up the vaccine wa covishield http co zwgu0di9dy', 'rt ani tamil nadu health secretary dr radhakrishnan took covaxin shot in trichy earlier today both covid19 vaccine are safe am happy how healthcare worker in the state are responding to vaccination he said http co w0abha804u', 'rt kktotlani endvaccinepolitics the leader who are grumbling about covaxin safety are generally making nuisance of themselves', 'on the second day of the pan india inoculation drive a many a 17 072 beneficiary were vaccinated against at 553 session in six state of the country on sunday said the union health ministry the ministry also announced the weekly vaccinatio', 'rt fpjindia activist saket gokhale file writ petition in bombay hc over lack of covaxin data saketgokhale vaccination covaxin covid19vaccine http co 9h7jl5xwtv', 'a day after receiving covishield vaccine seven person were hospitalised in akola and buldana district of maharashtra on sunday with complaint of pain and fever senior official said', 'rt iankursingh whole interview dr mishra ha supported covaxin karan thapar interrupted put illogical argument put word in his mouth but not once did he say that he doesn support covaxin why the wire so hell bent to target indian vaccine and support foreign interest like pfizer', 'rt rojernath had my 2 nd covaxin shot today painless hoping not placebo 2 week then hoping for antibody to build up thankyou drpandeyak esichq faridabad team for conducting very professionally managed clinical trial looking forward to positive result bharatbiotech http co tbyxmfdars', 'rt dwai_banerjee to friend in india based on my decade of research on drug regulation and safety in india here my takeaway on the two covid vaccine available if you can get access to covishield take it now if you are able to stay safe and isolated wait on covaxin here why thread http co 10lane52qk', 'vaccinationcovid covishield http co oi0ars7wry', 'rt dwai_banerjee to friend in india based on my decade of research on drug regulation and safety in india here my takeaway on the two covid vaccine available if you can get access to covishield take it now if you are able to stay safe and isolated wait on covaxin here why thread http co 10lane52qk', 'rt docvatsa why we ignore evidence mean covaxin doesn have phase 3 evidence but we ignore it absence and lot of evidence ha surfaced in alleged leak of arnab chat we aren investigating either way the reality will affect govern u even if we shut our eye to evidence', 'fanfan21 ericbellmanwsj narendramodi wth well pfizer vaccine is not in use in india covishield and covaxin produced in india are in use we have great safety record hope this doesn happen here it feel terrible to see that lady suffer', 'rt rssurjewala q3 why is the price of corona vaccine 1 000 dose in open market when covishield vaccine is being supplied at 200 dose to govt by sii why should they be permitted to make 500 profit for off the shelf purchase profiteer at cost of people 3 4 http co na7pxp8cus', 'rt saketgokhale to add to my prev tweet opposition can must be blamed for not speaking in 1 voice hammering an issue eg manishtewari is relentlessly questioning the govt on covaxin data others are talking about something else you can have 20 leader saying 20 different thing', 'rt bhavikakapoor5 so finally bill gate will gain from his pandemic investment of 2015 or prior how many of can recall bill gate lecture on pandemic and corona type virus in 2015 now see he invested bharat biotec covaxin that why bjp govt pushing it http co cj8aez3nl2', 'rt saketgokhale shame on the government of pakistan for hiding the safety efficacy data of covaxin from people imran khan should realize that the data cannot stay hidden any longer despite his best effort bharat mata ki jai satyamev jayate jai hind', 'rt bharatbiotech moment of pride and accomplishment a the first consignment of covaxin is dispatched from bharat biotech today at 1 00 am ist the indigenous vaccine is all set to vaccinate the nation against the dreadful sars_cov_2 bharatbiotech covaxin makeinindia indiafightscorona http co yqfssxtl0a', 'rt saketgokhale shame on the government of pakistan for hiding the safety efficacy data of covaxin from people imran khan should realize that the data cannot stay hidden any longer despite his best effort bharat mata ki jai satyamev jayate jai hind', 'rt indiatoday the cmo ha said mahipal singh died due to heart attack he had taken shot of the covishield vaccine moradabad abhishek6164 http co qp4tcuktsf', 'rt rssurjewala q3 why is the price of corona vaccine 1 000 dose in open market when covishield vaccine is being supplied at 200 dose to govt by sii why should they be permitted to make 500 profit for off the shelf purchase profiteer at cost of people 3 4 http co na7pxp8cus', 'new delhi after administering shot to over 4 300 healthcare worker on the opening day covid 19 vaccination team across the national capital started to give vaccine to more medical staff at various hospital on monday official said that the va', 'rt greatgameindia breaking an indian hospital worker from uttar pradesh ha dy just 24 hour after receiving the covid19 vaccine covishield from serum institute of india http co n7ywnrdnew', 'rt aboyobbhuyan exclusive on record with the superintendent of gmch dr abhijitsarma on air at 6pm only on thetruthin he answer diff between covishield covaxin how is assam preping how it feel to be vaccinated himantabiswa nhm_assam pomibaruah largestvaccinedrive http co jr6hb4f8ml', 'rt iankursingh whole interview dr mishra ha supported covaxin karan thapar interrupted put illogical argument put word in his mouth but not once did he say that he doesn support covaxin why the wire so hell bent to target indian vaccine and support foreign interest like pfizer', 'rt iankursingh whole interview dr mishra ha supported covaxin karan thapar interrupted put illogical argument put word in his mouth but not once did he say that he doesn support covaxin why the wire so hell bent to target indian vaccine and support foreign interest like pfizer http co tb5xwz3jgh', 'rt chitraahanthem anyone wondering if only non bjp rule state are getting covaxine while covishield is being sent to bjp one or are all state getting an equal mix of both vaccinepolitics', 'diplomacy india to export covid vaccine free of cost to it neighbour a diplomacy health india to export covid vaccine free of cost to it neighbour a goodwill gesture covaxin will be sent to 7 country including mongolia and oman', 'rt doctoratlarge don know if this is side effect but felt extremely hungry after getting vaccinated with covaxin consumed enough calorie for 2 day', 'rt aranganathan72 the indian govt is paying more for the covishield sii oxford astra zeneca vaccine than european country r 200 per dose compared to r 150 even without ppp my view on timesnow with rshivshankar on the race towards an indigenous vaccine http co bqzeyykqnu', 'the covid 19 vaccination drive resumed on monday at 207 site across west bengal with beneficiary mostly frontline worker reaching there a scheduled to receive the dos senior official of the health department said glitch in the cowin', 'rt aranganathan72 the indian govt is paying more for the covishield sii oxford astra zeneca vaccine than european country r 200 per dose compared to r 150 even without ppp my view on timesnow with rshivshankar on the race towards an indigenous vaccine http co bqzeyykqnu', 'rt saketgokhale shame on the government of pakistan for hiding the safety efficacy data of covaxin from people imran khan should realize that the data cannot stay hidden any longer despite his best effort bharat mata ki jai satyamev jayate jai hind', 'rt just1doctorwala gee wonder why 3 of the 11 state that administered covaxin on saturday have pointed out that the beneficiary were reluctant to sign the consent form resulting in le than 50 strike rate on the first day of the public immunisation drive http co iwuogjij87', 'india ha reported 447 adverse reaction to covid 19 vaccine a 224 301 people received the first dose of vaccine in the country the health ministry confirmed on sunday of the 447 adverse event following immunization aefis three had to be ho', 'rt vidyakrishnan modi is not taking the vaccine he is forcing on indian citizen because it is not safe one person died during the trial another died yest after receiving the vaccine covaxin', 'rt cloudno07 ha any one from malayalam film fraternity thanked our pm for the effective roll out of covaxin imagine if this wa done by pinarayi or shailaja teacher such coward', 'rt adarpoonawalla wish india sri narendramodi ji great success in launching the world largest covid vaccination roll out it brings me great pride that covishield is part of this historic effort to endorse it safety efficacy join our health worker in taking the vaccine myself http co x7snxjqbn6', 'rt svaradarajan last week 49 scientist issued pro covaxin letter calling those criticising goi a vested interest today karan thapar pick up apart one of the 49 dr mc mishra former aiims head who unsurprisingly dial back from his covaxin enthusiasm http co 7p5ac8eohm', 'rt greatgameindia breaking an indian hospital worker from uttar pradesh ha dy just 24 hour after receiving the covid19 vaccine covishield from serum institute of india http co n7ywnrdnew', 'today india face it greatest challenge in averting the second wave of the novel coronavirus pandemic that is raging through europe and the america but a india embarks on the world greatest vaccination drive there is hope that we will stop th', 'rt bhavikakapoor5 here plot nexus commission game between bharat biotec covaxin and pm modi tax payer money being blown up on vaccine that didn follow 3rd stage trial largestvaccinedrivepm', 'visakhapatnam jan 17 a many a 40 frontline worker have been vaccinated for coronavirus at naval hospital in andhra pradesh visakhapatnam covishield vaccine wa given to 40 frontline covid warrior including doctor nurse paramedical', 'rt adarpoonawalla wish india sri narendramodi ji great success in launching the world largest covid vaccination roll out it brings me great pride that covishield is part of this historic effort to endorse it safety efficacy join our health worker in taking the vaccine myself http co x7snxjqbn6', 'rt the_fauxy after no side effect of covaxin liberal bang his head on wall to have dizziness reveals cctv footage http co djcdtexn5i', 'on saturday the vaccination began in k with two inaugural ceremony with lieutenant governor lg manoj sinha launching the drive at government medical college jammu for the jammu division and the advisor to lg rajeev rai bhatnagar starting the', 'this would be the biggest financial stimulus of all rapidly declining infection rate would have an effect on the economy and kick start the service sector which account for 54 of the country gdp success rate of 64 out of 316 375 people', 'rt cnbctv18news founder of bharatbiotech suchitra krishna ella address the concern over covaxin controversy over the bhopal trial why indian co are not getting indemnity in purchase pact unlike their u european peer shereenbhan sanjeevani ashotoflife http co nvfdgoqj89', 'srinivasaiims covaxin or covishield my friend are posting their pic with covishield', 'narendramodi ji and drharshvardhan ji thanks and blessed for this privilege opportunity took my first vaccine shot today it only strengthens our love and responsibility towards our patient columbiaasiain covid19 gocoronago endofcorona covidvacccine covishield http co r0pn1cydoz', 'rt rakri1 nairshilpa1308 thanks a one among the hcw from administration side appreciate the commitment of field functionary got covaxin thank the scientist for both vaccine milestone in this fight against covid do also continue with mask social distancing hand washing', 'rt rakri1 nairshilpa1308 thanks a one among the hcw from administration side appreciate the commitment of field functionary got covaxin thank the scientist for both vaccine milestone in this fight against covid do also continue with mask social distancing hand washing', 'kudos to team narendramodi pmoindia seruminstindia bharatbiotech for largestvaccinedrive very well planned and handled zeenews indiatvnews republic mohfw_india who un covid19vaccination special thanks to adarpoonawalla covaxin covishield bjp4india', 'today got vaccination for covid 19 name covishield feel good and glad to inform to all it is safe thanks to the govt http co mhayftbtyl', 'myself and my wife got covishield vaccination at konganapuram phc thanks to covishield coronavirusvaccine cmedappadipalaniswami tnhealth http co lsjigz0zxp', 'jai sri ram covaxin odishathanksmodi odishalovesmodi http co 0ywjj0hny9', 'rt drshashidharbk narendramodi ji and drharshvardhan ji thanks and blessed for this privilege opportunity took my first vaccine shot today it only strengthens our love and responsibility towards our patient columbiaasiain covid19 gocoronago endofcorona covidvacccine covishield http co r0pn1cydoz', 'rt drshashidharbk narendramodi ji and drharshvardhan ji thanks and blessed for this privilege opportunity took my first vaccine shot today it only strengthens our love and responsibility towards our patient columbiaasiain covid19 gocoronago endofcorona covidvacccine covishield http co r0pn1cydoz', 'appreciation and thanks from tamil nadu cm to seruminstindia and bharatbiotech for rolling out vaccine coronavaccine covishield covaxin']\n"
     ]
    }
   ],
   "source": [
    "print(documents)"
   ]
  },
  {
   "cell_type": "code",
   "execution_count": 18,
   "metadata": {},
   "outputs": [
    {
     "name": "stdout",
     "output_type": "stream",
     "text": [
      "[[0 0 0 ... 0 0 0]\n",
      " [0 0 0 ... 0 0 0]\n",
      " [0 0 0 ... 0 0 0]\n",
      " ...\n",
      " [0 0 0 ... 0 0 0]\n",
      " [0 0 0 ... 0 0 0]\n",
      " [0 0 0 ... 0 0 0]]\n"
     ]
    }
   ],
   "source": [
    "from sklearn.feature_extraction.text import CountVectorizer\n",
    "vectorizer = CountVectorizer(analyzer='word',max_features=1000, min_df=5, max_df=0.7, stop_words=stopwords.words('english'))\n",
    "Y1 = vectorizer.fit_transform(documents).toarray()\n",
    "print(Y1)"
   ]
  },
  {
   "cell_type": "code",
   "execution_count": 19,
   "metadata": {},
   "outputs": [
    {
     "name": "stdout",
     "output_type": "stream",
     "text": [
      "[[0. 0. 0. ... 0. 0. 0.]\n",
      " [0. 0. 0. ... 0. 0. 0.]\n",
      " [0. 0. 0. ... 0. 0. 0.]\n",
      " ...\n",
      " [0. 0. 0. ... 0. 0. 0.]\n",
      " [0. 0. 0. ... 0. 0. 0.]\n",
      " [0. 0. 0. ... 0. 0. 0.]]\n"
     ]
    }
   ],
   "source": [
    "from sklearn.feature_extraction.text import TfidfTransformer\n",
    "tfidfconverter = TfidfTransformer()\n",
    "Y1 = tfidfconverter.fit_transform(Y1).toarray()\n",
    "print(Y1)"
   ]
  },
  {
   "cell_type": "code",
   "execution_count": 26,
   "metadata": {},
   "outputs": [
    {
     "data": {
      "text/plain": [
       "(53, 198)"
      ]
     },
     "execution_count": 26,
     "metadata": {},
     "output_type": "execute_result"
    }
   ],
   "source": [
    "from sklearn.model_selection import train_test_split\n",
    "X_train, X_test, y_train, y_test = train_test_split(Y1, X1, test_size= 0.3)\n",
    "\n",
    "X_test.shape"
   ]
  },
  {
   "cell_type": "code",
   "execution_count": 27,
   "metadata": {},
   "outputs": [],
   "source": [
    "from sklearn.svm import SVC\n",
    "from sklearn.linear_model import LogisticRegression\n",
    "from sklearn.ensemble import RandomForestClassifier \n",
    "from sklearn.neural_network import MLPClassifier\n",
    "from sklearn.naive_bayes import MultinomialNB \n",
    "from sklearn.neural_network import MLPClassifier\n",
    "from sklearn.ensemble import StackingClassifier\n",
    "models = [('lgr', LogisticRegression()),('mnb', MultinomialNB()),('rfc', RandomForestClassifier()),('svm',SVC())]\n",
    "stacking = StackingClassifier(estimators=models, n_jobs = -1, passthrough= True)"
   ]
  },
  {
   "cell_type": "code",
   "execution_count": 28,
   "metadata": {},
   "outputs": [
    {
     "data": {
      "text/plain": [
       "array([0, 1, 2, 1, 1, 1, 2, 0, 0, 2, 2, 2, 0, 2, 0, 2, 0, 1, 1, 0, 0, 1,\n",
       "       1, 2, 2, 1, 0, 0, 2, 1, 1, 0, 1, 0, 0, 0, 1, 2, 0, 0, 1, 0, 2, 2,\n",
       "       1, 2, 1, 1, 2, 1, 2, 2, 2], dtype=int64)"
      ]
     },
     "execution_count": 28,
     "metadata": {},
     "output_type": "execute_result"
    }
   ],
   "source": [
    "stacking.fit(X_train, y_train)\n",
    "y_pred = stacking.predict(X_test)\n",
    "y_pred"
   ]
  },
  {
   "cell_type": "code",
   "execution_count": 29,
   "metadata": {},
   "outputs": [
    {
     "data": {
      "text/plain": [
       "(121, 198)"
      ]
     },
     "execution_count": 29,
     "metadata": {},
     "output_type": "execute_result"
    }
   ],
   "source": [
    "X_train.shape"
   ]
  },
  {
   "cell_type": "code",
   "execution_count": 30,
   "metadata": {},
   "outputs": [
    {
     "data": {
      "text/plain": [
       "0.7169811320754716"
      ]
     },
     "execution_count": 30,
     "metadata": {},
     "output_type": "execute_result"
    }
   ],
   "source": [
    "from sklearn import metrics\n",
    "metrics.accuracy_score(y_test, y_pred)"
   ]
  },
  {
   "cell_type": "code",
   "execution_count": 31,
   "metadata": {},
   "outputs": [
    {
     "data": {
      "text/plain": [
       "<AxesSubplot:>"
      ]
     },
     "execution_count": 31,
     "metadata": {},
     "output_type": "execute_result"
    },
    {
     "data": {
      "image/png": "[encoded data removed]",
      "text/plain": [
       "<Figure size 432x288 with 2 Axes>"
      ]
     },
     "metadata": {
      "needs_background": "light"
     },
     "output_type": "display_data"
    }
   ],
   "source": [
    "import seaborn as sns\n",
    "from sklearn.metrics import confusion_matrix\n",
    "conf_mat = confusion_matrix(y_test, y_pred)\n",
    "\n",
    "sns.heatmap(conf_mat, annot=True)"
   ]
  },
  {
   "cell_type": "code",
   "execution_count": 32,
   "metadata": {},
   "outputs": [],
   "source": [
    "%store -r Y2Edel"
   ]
  },
  {
   "cell_type": "code",
   "execution_count": 34,
   "metadata": {},
   "outputs": [
    {
     "data": {
      "text/plain": [
       "(4941, 198)"
      ]
     },
     "execution_count": 34,
     "metadata": {},
     "output_type": "execute_result"
    }
   ],
   "source": [
    "Y2Edel.shape"
   ]
  },
  {
   "cell_type": "code",
   "execution_count": 35,
   "metadata": {},
   "outputs": [
    {
     "data": {
      "text/plain": [
       "array([2, 1, 1, ..., 1, 1, 0], dtype=int64)"
      ]
     },
     "execution_count": 35,
     "metadata": {},
     "output_type": "execute_result"
    }
   ],
   "source": [
    "y_pred2 = stacking.predict(Y2Edel)\n",
    "y_pred2"
   ]
  },
  {
   "cell_type": "code",
   "execution_count": 36,
   "metadata": {},
   "outputs": [],
   "source": [
    "df22 = pd.DataFrame(y_pred2)\n",
    "df22.columns = [\"Labels\"]"
   ]
  },
  {
   "cell_type": "code",
   "execution_count": 37,
   "metadata": {},
   "outputs": [],
   "source": [
    "%store -r dfEdelTweet"
   ]
  },
  {
   "cell_type": "code",
   "execution_count": 38,
   "metadata": {},
   "outputs": [
    {
     "data": {
      "text/html": [
       "<div>\n",
       "<style scoped>\n",
       "    .dataframe tbody tr th:only-of-type {\n",
       "        vertical-align: middle;\n",
       "    }\n",
       "\n",
       "    .dataframe tbody tr th {\n",
       "        vertical-align: top;\n",
       "    }\n",
       "\n",
       "    .dataframe thead th {\n",
       "        text-align: right;\n",
       "    }\n",
       "</style>\n",
       "<table border=\"1\" class=\"dataframe\">\n",
       "  <thead>\n",
       "    <tr style=\"text-align: right;\">\n",
       "      <th></th>\n",
       "      <th>Tweets</th>\n",
       "      <th>Labels</th>\n",
       "    </tr>\n",
       "  </thead>\n",
       "  <tbody>\n",
       "    <tr>\n",
       "      <th>0</th>\n",
       "      <td>@sadhika_tiwari: A 46-year-old dies after vac...</td>\n",
       "      <td>2</td>\n",
       "    </tr>\n",
       "    <tr>\n",
       "      <th>1</th>\n",
       "      <td>@mid_day: #MiddayNews | Consent form for #Cov...</td>\n",
       "      <td>1</td>\n",
       "    </tr>\n",
       "    <tr>\n",
       "      <th>2</th>\n",
       "      <td>@TimesNow: #Breaking | Bharat Biotech to pay ...</td>\n",
       "      <td>1</td>\n",
       "    </tr>\n",
       "    <tr>\n",
       "      <th>3</th>\n",
       "      <td>@the_fauxy: After No Side Effect Of Covaxin, ...</td>\n",
       "      <td>1</td>\n",
       "    </tr>\n",
       "    <tr>\n",
       "      <th>4</th>\n",
       "      <td>New Delhi, Jan 18 (PTI) Healthcare workers in ...</td>\n",
       "      <td>1</td>\n",
       "    </tr>\n",
       "    <tr>\n",
       "      <th>...</th>\n",
       "      <td>...</td>\n",
       "      <td>...</td>\n",
       "    </tr>\n",
       "    <tr>\n",
       "      <th>4936</th>\n",
       "      <td>#Covishield #CoronaVaccine https://t.co/eVoEIr...</td>\n",
       "      <td>0</td>\n",
       "    </tr>\n",
       "    <tr>\n",
       "      <th>4937</th>\n",
       "      <td>RT @SaketGokhale: To add to my prev. tweet: Op...</td>\n",
       "      <td>1</td>\n",
       "    </tr>\n",
       "    <tr>\n",
       "      <th>4938</th>\n",
       "      <td>RT @the_fauxy: After No Side Effect Of Covaxin...</td>\n",
       "      <td>1</td>\n",
       "    </tr>\n",
       "    <tr>\n",
       "      <th>4939</th>\n",
       "      <td>Tibetan health workers receive #Covishield vac...</td>\n",
       "      <td>1</td>\n",
       "    </tr>\n",
       "    <tr>\n",
       "      <th>4940</th>\n",
       "      <td>RT @TheSignalDotCo: We've all heard stories of...</td>\n",
       "      <td>0</td>\n",
       "    </tr>\n",
       "  </tbody>\n",
       "</table>\n",
       "<p>4941 rows × 2 columns</p>\n",
       "</div>"
      ],
      "text/plain": [
       "                                                 Tweets  Labels\n",
       "0      @sadhika_tiwari: A 46-year-old dies after vac...       2\n",
       "1      @mid_day: #MiddayNews | Consent form for #Cov...       1\n",
       "2      @TimesNow: #Breaking | Bharat Biotech to pay ...       1\n",
       "3      @the_fauxy: After No Side Effect Of Covaxin, ...       1\n",
       "4     New Delhi, Jan 18 (PTI) Healthcare workers in ...       1\n",
       "...                                                 ...     ...\n",
       "4936  #Covishield #CoronaVaccine https://t.co/eVoEIr...       0\n",
       "4937  RT @SaketGokhale: To add to my prev. tweet: Op...       1\n",
       "4938  RT @the_fauxy: After No Side Effect Of Covaxin...       1\n",
       "4939  Tibetan health workers receive #Covishield vac...       1\n",
       "4940  RT @TheSignalDotCo: We've all heard stories of...       0\n",
       "\n",
       "[4941 rows x 2 columns]"
      ]
     },
     "execution_count": 38,
     "metadata": {},
     "output_type": "execute_result"
    }
   ],
   "source": [
    "dfEdelTweet[\"Labels\"] = df22[\"Labels\"]\n",
    "dfEdelTweet = dfEdelTweet.drop(\"Label\",axis=1)\n",
    "dfEdelTweet"
   ]
  },
  {
   "cell_type": "code",
   "execution_count": 40,
   "metadata": {},
   "outputs": [],
   "source": [
    "filename = \"Final_Edelman_Tweets.xlsx\"\n",
    "\n",
    "dfEdelTweet.to_excel(filename)"
   ]
  },
  {
   "cell_type": "code",
   "execution_count": null,
   "metadata": {},
   "outputs": [],
   "source": []
  }
 ],
 "metadata": {
  "kernelspec": {
   "display_name": "Python 3",
   "language": "python",
   "name": "python3"
  },
  "language_info": {
   "codemirror_mode": {
    "name": "ipython",
    "version": 3
   },
   "file_extension": ".py",
   "mimetype": "text/x-python",
   "name": "python",
   "nbconvert_exporter": "python",
   "pygments_lexer": "ipython3",
   "version": "3.8.5"
  }
 },
 "nbformat": 4,
 "nbformat_minor": 4
}
